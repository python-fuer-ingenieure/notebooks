{
 "cells": [
  {
   "cell_type": "code",
   "execution_count": 1,
   "metadata": {},
   "outputs": [],
   "source": [
    "# sorgt dafür, dass, wenn die letzte Zeile eine Zuweisung ist, deren Ergebnis auch ausgegeben wird\n",
    "%config InteractiveShell.ast_node_interactivity='last_expr_or_assign'"
   ]
  },
  {
   "cell_type": "code",
   "execution_count": 2,
   "metadata": {},
   "outputs": [],
   "source": [
    "import matplotlib.pyplot as plt\n",
    "import sympy as sp\n",
    "import numpy as np\n",
    "import scipy as sc\n",
    "import copy\n",
    "import math\n",
    "\n",
    "def show_book(figname, saveandshow=True, printflag=True, txt=\"\", **kwargs):\n",
    "    \"\"\"\n",
    "    Diese Funktion dient dazu Abbildungen abzuspeichern und den Name der Abbildung\n",
    "    mit in den Quelltextschnipsel einzufügen\n",
    "    \"\"\"\n",
    "    if printflag:\n",
    "        print(r\"Siehe Abbildung §\\ref{fig_XXX}§\".replace(\"XXX\", figname) + txt)\n",
    "    if saveandshow:\n",
    "        plt.savefig(f\"{figname}_snip.pdf\",**kwargs)\n",
    "        plt.show()\n",
    "    \n",
    "plt.rcParams['text.usetex'] = True\n",
    "plt.rcParams['font.size'] = 14\n",
    "plt.rcParams['legend.fontsize'] = 18\n",
    "\n",
    "\n",
    "plt.rcParams['figure.subplot.left'] = .13\n",
    "\n",
    "# Bisherige Plot-Einstellungen speichern (echte Kopie anlegen)\n",
    "orig_plt_rcParams = copy.deepcopy(plt.rcParams)\n",
    "\n",
    "# Plot-Einstellungen anpassen für zwei Grafiken nebeneinander\n",
    "plt.rcParams['font.size'] = 18\n",
    "\n",
    "plt.rcParams['figure.subplot.bottom'] = .265\n",
    "plt.rcParams['figure.subplot.left'] = .09\n",
    "plt.rcParams['figure.subplot.top'] = .995\n",
    "plt.rcParams['figure.subplot.right'] = .995\n",
    "\n",
    "plt.rcParams['figure.subplot.hspace'] = .3 # horizontalen Abstand anpassen\n",
    "\n",
    "\n",
    "double_plt_rcParams = copy.deepcopy(plt.rcParams)\n",
    "pass"
   ]
  },
  {
   "cell_type": "markdown",
   "metadata": {},
   "source": [
    "## Kombinatorik\n",
    "### Variationen\n",
    "Reihenfolge spielt eine Rolle"
   ]
  },
  {
   "cell_type": "markdown",
   "metadata": {},
   "source": [
    "---\n",
    "#### kartesisches Produkt"
   ]
  },
  {
   "cell_type": "markdown",
   "metadata": {},
   "source": [
    "`begin komb1`"
   ]
  },
  {
   "cell_type": "code",
   "execution_count": 3,
   "metadata": {},
   "outputs": [
    {
     "data": {
      "text/plain": [
       "[('X', 0), ('X', 1), ('X', 2), ('Y', 0), ('Y', 1), ('Y', 2)]"
      ]
     },
     "execution_count": 3,
     "metadata": {},
     "output_type": "execute_result"
    }
   ],
   "source": [
    "import itertools as it\n",
    "\n",
    "P = list(it.product(\"XY\", range(3)))"
   ]
  },
  {
   "cell_type": "code",
   "execution_count": 4,
   "metadata": {},
   "outputs": [
    {
     "data": {
      "text/plain": [
       "6"
      ]
     },
     "execution_count": 4,
     "metadata": {},
     "output_type": "execute_result"
    }
   ],
   "source": [
    "len(P)"
   ]
  },
  {
   "cell_type": "markdown",
   "metadata": {},
   "source": [
    "`end komb1`"
   ]
  },
  {
   "cell_type": "markdown",
   "metadata": {},
   "source": [
    "`begin komb2`"
   ]
  },
  {
   "cell_type": "code",
   "execution_count": 5,
   "metadata": {},
   "outputs": [
    {
     "name": "stdout",
     "output_type": "stream",
     "text": [
      "(7+4j)\n",
      "(7-4j)\n",
      "(7+5j)\n",
      "...\n"
     ]
    }
   ],
   "source": [
    "for real, imag, sign in it.product([7, 8, 9], [4, 5], [1,-1]):\n",
    "    z = real + 1j*sign*imag\n",
    "    print(z)\n",
    "    # Platz sparen im Buch #!\n",
    "    if imag == 5: #!\n",
    "        print(\"...\") #!\n",
    "        break #!"
   ]
  },
  {
   "cell_type": "markdown",
   "metadata": {},
   "source": [
    "`end komb2`"
   ]
  },
  {
   "cell_type": "markdown",
   "metadata": {},
   "source": [
    "`begin komb3`"
   ]
  },
  {
   "cell_type": "code",
   "execution_count": 6,
   "metadata": {},
   "outputs": [
    {
     "name": "stdout",
     "output_type": "stream",
     "text": [
      "(0, 0, 0), (0, 0, 1), (0, 1, 0), (0, 1, 1), (1, 0, 0), ...\n"
     ]
    }
   ],
   "source": [
    "for bits in it.product([0, 1], repeat=3):\n",
    "    print(bits, end=\", \") # print ohne Zeilenumbruch\n",
    "    # Platz sparen im Buch #!\n",
    "    if bits == (1, 0, 0): #!\n",
    "        print(\"...\") #!\n",
    "        break #!"
   ]
  },
  {
   "cell_type": "markdown",
   "metadata": {},
   "source": [
    "`end komb3`"
   ]
  },
  {
   "cell_type": "markdown",
   "metadata": {},
   "source": [
    "`begin komb4`"
   ]
  },
  {
   "cell_type": "code",
   "execution_count": 7,
   "metadata": {},
   "outputs": [
    {
     "data": {
      "text/plain": [
       "True"
      ]
     },
     "execution_count": 7,
     "metadata": {},
     "output_type": "execute_result"
    }
   ],
   "source": [
    "len(list(it.product(\"XYZ\", range(5)))) == 3*5 == 15"
   ]
  },
  {
   "cell_type": "code",
   "execution_count": 8,
   "metadata": {},
   "outputs": [
    {
     "data": {
      "text/plain": [
       "True"
      ]
     },
     "execution_count": 8,
     "metadata": {},
     "output_type": "execute_result"
    }
   ],
   "source": [
    "len(list(it.product([0, 1], repeat=3))) == 2**3 == 8"
   ]
  },
  {
   "cell_type": "markdown",
   "metadata": {},
   "source": [
    "`end komb4`"
   ]
  },
  {
   "cell_type": "markdown",
   "metadata": {},
   "source": [
    "---\n",
    "#### Permutaionen"
   ]
  },
  {
   "cell_type": "markdown",
   "metadata": {},
   "source": [
    "`begin komb5`"
   ]
  },
  {
   "cell_type": "code",
   "execution_count": 9,
   "metadata": {},
   "outputs": [
    {
     "data": {
      "text/plain": [
       "[('rot', 'grün', 'blau'),\n",
       " ('rot', 'blau', 'grün'),\n",
       " ('grün', 'rot', 'blau'),\n",
       " ('grün', 'blau', 'rot'),\n",
       " ('blau', 'rot', 'grün'),\n",
       " ('blau', 'grün', 'rot')]"
      ]
     },
     "execution_count": 9,
     "metadata": {},
     "output_type": "execute_result"
    }
   ],
   "source": [
    "list(it.permutations([\"rot\", \"grün\", \"blau\"]))"
   ]
  },
  {
   "cell_type": "markdown",
   "metadata": {},
   "source": [
    "`end komb5`"
   ]
  },
  {
   "cell_type": "markdown",
   "metadata": {},
   "source": [
    "`begin komb6`"
   ]
  },
  {
   "cell_type": "code",
   "execution_count": 10,
   "metadata": {},
   "outputs": [
    {
     "data": {
      "text/plain": [
       "True"
      ]
     },
     "execution_count": 10,
     "metadata": {},
     "output_type": "execute_result"
    }
   ],
   "source": [
    "from scipy.special import factorial as sc_factorial\n",
    "import math\n",
    "\n",
    "math.factorial(3) == sc_factorial(3) == 3*2*1 == 6"
   ]
  },
  {
   "cell_type": "markdown",
   "metadata": {},
   "source": [
    "`end komb6`"
   ]
  },
  {
   "cell_type": "markdown",
   "metadata": {},
   "source": [
    "`begin komb7`"
   ]
  },
  {
   "cell_type": "code",
   "execution_count": 11,
   "metadata": {},
   "outputs": [
    {
     "name": "stdout",
     "output_type": "stream",
     "text": [
      "[('a', 'e'), ('a', 'i'), ('a', 'o'), ('a', 'u'), ('e', 'a'), '...']\n"
     ]
    }
   ],
   "source": [
    "# 2er Variationen von Vokalen\n",
    "vok_var = list(it.permutations(\"aeiou\", 2))\n",
    "print(vok_var[:5]+[\"...\"])"
   ]
  },
  {
   "cell_type": "markdown",
   "metadata": {},
   "source": [
    "`end komb7`"
   ]
  },
  {
   "cell_type": "markdown",
   "metadata": {},
   "source": [
    "`begin komb8`"
   ]
  },
  {
   "cell_type": "code",
   "execution_count": 12,
   "metadata": {},
   "outputs": [
    {
     "data": {
      "text/plain": [
       "True"
      ]
     },
     "execution_count": 12,
     "metadata": {},
     "output_type": "execute_result"
    }
   ],
   "source": [
    "sc_factorial(5)/sc_factorial(5-2) == len(vok_var) == 20"
   ]
  },
  {
   "cell_type": "markdown",
   "metadata": {},
   "source": [
    "`end komb8`"
   ]
  },
  {
   "cell_type": "markdown",
   "metadata": {},
   "source": [
    "### Kombinationen\n",
    "(Reihenfolge spielt keine Rolle)"
   ]
  },
  {
   "cell_type": "markdown",
   "metadata": {},
   "source": [
    "`begin komb9`"
   ]
  },
  {
   "cell_type": "code",
   "execution_count": 13,
   "metadata": {},
   "outputs": [
    {
     "data": {
      "text/plain": [
       "[('a', 'b'), ('a', 'c'), ('a', 'd'), ('b', 'c'), ('b', 'd'), ('c', 'd')]"
      ]
     },
     "execution_count": 13,
     "metadata": {},
     "output_type": "execute_result"
    }
   ],
   "source": [
    "# auch mal ein Variablenname mit Umlaut ... weil es geht :)\n",
    "handschläge = list(it.combinations(\"abcd\", 2))"
   ]
  },
  {
   "cell_type": "markdown",
   "metadata": {},
   "source": [
    "`end komb9`"
   ]
  },
  {
   "cell_type": "markdown",
   "metadata": {},
   "source": [
    "`begin komb10`"
   ]
  },
  {
   "cell_type": "code",
   "execution_count": 14,
   "metadata": {},
   "outputs": [
    {
     "data": {
      "text/plain": [
       "True"
      ]
     },
     "execution_count": 14,
     "metadata": {},
     "output_type": "execute_result"
    }
   ],
   "source": [
    "len(handschläge) == sc.special.binom(4, 2) \\\n",
    "    == sc_factorial(4)/(sc_factorial(4-2) * sc_factorial(2)) \\\n",
    "    == 6"
   ]
  },
  {
   "cell_type": "markdown",
   "metadata": {},
   "source": [
    "`end komb10`"
   ]
  },
  {
   "cell_type": "markdown",
   "metadata": {},
   "source": [
    "`begin komb11`"
   ]
  },
  {
   "cell_type": "code",
   "execution_count": 15,
   "metadata": {},
   "outputs": [
    {
     "data": {
      "text/plain": [
       "['C1', 'C2', 'C3', 'C4', 'C5', 'C6', 'C7', 'C8', 'C9', 'C10']"
      ]
     },
     "execution_count": 15,
     "metadata": {},
     "output_type": "execute_result"
    }
   ],
   "source": [
    "# \"List-Comprehension\" (siehe Kapitel 14)\n",
    "vorrat = [f\"C{i+1}\" for i in range(10)]"
   ]
  },
  {
   "cell_type": "code",
   "execution_count": 16,
   "metadata": {},
   "outputs": [
    {
     "data": {
      "text/plain": [
       "[('C1', 'C1', 'C1'),\n",
       " ('C1', 'C1', 'C2'),\n",
       " ('C1', 'C1', 'C3'),\n",
       " ('C1', 'C1', 'C4')]"
      ]
     },
     "execution_count": 16,
     "metadata": {},
     "output_type": "execute_result"
    }
   ],
   "source": [
    "komb = list(it.combinations_with_replacement(vorrat, 3))\n",
    "komb[:4]"
   ]
  },
  {
   "cell_type": "markdown",
   "metadata": {},
   "source": [
    "`end komb11`"
   ]
  },
  {
   "cell_type": "markdown",
   "metadata": {},
   "source": [
    "`begin komb12`"
   ]
  },
  {
   "cell_type": "code",
   "execution_count": 17,
   "metadata": {},
   "outputs": [
    {
     "data": {
      "text/plain": [
       "True"
      ]
     },
     "execution_count": 17,
     "metadata": {},
     "output_type": "execute_result"
    }
   ],
   "source": [
    "import scipy\n",
    "len(komb) == scipy.special.binom(10 - 1 + 3, 3) == 220"
   ]
  },
  {
   "cell_type": "markdown",
   "metadata": {},
   "source": [
    "`end komb12`"
   ]
  },
  {
   "cell_type": "code",
   "execution_count": null,
   "metadata": {},
   "outputs": [],
   "source": []
  },
  {
   "cell_type": "markdown",
   "metadata": {},
   "source": [
    "`begin pseudozf1`"
   ]
  },
  {
   "cell_type": "code",
   "execution_count": 18,
   "metadata": {},
   "outputs": [],
   "source": [
    "# Demozufallsgenerator. Nicht für praktischen Einsatz konzipiert! #!\n",
    "n = 23 # Startwert\n",
    "zz = []\n",
    "for i in range(10):\n",
    "    zz.append(n)\n",
    "    n = 17*n % 100"
   ]
  },
  {
   "cell_type": "code",
   "execution_count": 19,
   "metadata": {},
   "outputs": [
    {
     "data": {
      "text/plain": [
       "[23, 91, 47, 99, 83, 11, 87, 79, 43, 31]"
      ]
     },
     "execution_count": 19,
     "metadata": {},
     "output_type": "execute_result"
    }
   ],
   "source": [
    "zz"
   ]
  },
  {
   "cell_type": "markdown",
   "metadata": {},
   "source": [
    "`end pseudozf1`"
   ]
  },
  {
   "cell_type": "code",
   "execution_count": 20,
   "metadata": {},
   "outputs": [],
   "source": [
    "import random\n",
    "\n",
    "random.seed(123)"
   ]
  },
  {
   "cell_type": "markdown",
   "metadata": {},
   "source": [
    "`begin pseudozf2`"
   ]
  },
  {
   "cell_type": "code",
   "execution_count": 21,
   "metadata": {},
   "outputs": [
    {
     "data": {
      "text/plain": [
       "0.052363598850944326"
      ]
     },
     "execution_count": 21,
     "metadata": {},
     "output_type": "execute_result"
    }
   ],
   "source": [
    "import random\n",
    "random.seed(123) # Initialisierung Pseudozufallsgenerator\n",
    "\n",
    "random.random()  # Zufalls-float zwischen 0 und 1"
   ]
  },
  {
   "cell_type": "code",
   "execution_count": 22,
   "metadata": {},
   "outputs": [
    {
     "data": {
      "text/plain": [
       "-8"
      ]
     },
     "execution_count": 22,
     "metadata": {},
     "output_type": "execute_result"
    }
   ],
   "source": [
    "random.randint(-10, 10) # Zufalls-int zwischen -10 und 10\n",
    "# Achtung: Obere Grenze ist hier inklusive gemeint"
   ]
  },
  {
   "cell_type": "code",
   "execution_count": 23,
   "metadata": {},
   "outputs": [
    {
     "data": {
      "text/plain": [
       "[20, 50, 10, 30, 40]"
      ]
     },
     "execution_count": 23,
     "metadata": {},
     "output_type": "execute_result"
    }
   ],
   "source": [
    "L = [10, 20, 30, 40, 50]\n",
    "random.shuffle(L) # zufällige Umsortierung der Liste\n",
    "L"
   ]
  },
  {
   "cell_type": "markdown",
   "metadata": {},
   "source": [
    "`end pseudozf2`"
   ]
  },
  {
   "cell_type": "markdown",
   "metadata": {},
   "source": [
    "### np.random"
   ]
  },
  {
   "cell_type": "markdown",
   "metadata": {},
   "source": [
    "`begin pseudozf3`"
   ]
  },
  {
   "cell_type": "code",
   "execution_count": 24,
   "metadata": {},
   "outputs": [],
   "source": [
    "np.random.seed(456)"
   ]
  },
  {
   "cell_type": "code",
   "execution_count": 25,
   "metadata": {},
   "outputs": [
    {
     "data": {
      "text/plain": [
       "0.2487559093571018"
      ]
     },
     "execution_count": 25,
     "metadata": {},
     "output_type": "execute_result"
    }
   ],
   "source": [
    "np.random.random() # zufälliger Skalar in [0, 1)"
   ]
  },
  {
   "cell_type": "code",
   "execution_count": 26,
   "metadata": {},
   "outputs": [
    {
     "data": {
      "text/plain": [
       "array([0.16306678, 0.78364326, 0.80852339])"
      ]
     },
     "execution_count": 26,
     "metadata": {},
     "output_type": "execute_result"
    }
   ],
   "source": [
    "np.random.random(3) # zufälliger 1D-Array (shape: (3,))"
   ]
  },
  {
   "cell_type": "code",
   "execution_count": 27,
   "metadata": {},
   "outputs": [
    {
     "data": {
      "text/plain": [
       "array([[0.62562843, 0.60411363, 0.8857019 , 0.75911747],\n",
       "       [0.18110506, 0.15016932, 0.43567937, 0.38527255]])"
      ]
     },
     "execution_count": 27,
     "metadata": {},
     "output_type": "execute_result"
    }
   ],
   "source": [
    "np.random.random((2, 4)) # zufälliger 2D-Array (shape: (2, 4))"
   ]
  },
  {
   "cell_type": "code",
   "execution_count": 28,
   "metadata": {},
   "outputs": [
    {
     "data": {
      "text/plain": [
       "array([[ 4, 10, -8, -8],\n",
       "       [ 1, -2, -6, -2]])"
      ]
     },
     "execution_count": 28,
     "metadata": {},
     "output_type": "execute_result"
    }
   ],
   "source": [
    "\n",
    "np.random.randint(-10, 11, size=(2, 4))\n",
    "# Achtung: Obere Grenze ist hier exklusive"
   ]
  },
  {
   "cell_type": "code",
   "execution_count": 29,
   "metadata": {},
   "outputs": [
    {
     "data": {
      "text/plain": [
       "array([30, 40, 20, 10,  0])"
      ]
     },
     "execution_count": 29,
     "metadata": {},
     "output_type": "execute_result"
    }
   ],
   "source": [
    "\n",
    "A = np.arange(5)*10 \n",
    "np.random.shuffle(A)\n",
    "A"
   ]
  },
  {
   "cell_type": "markdown",
   "metadata": {},
   "source": [
    "`end pseudozf3`"
   ]
  },
  {
   "cell_type": "code",
   "execution_count": 30,
   "metadata": {},
   "outputs": [
    {
     "data": {
      "text/plain": [
       "0"
      ]
     },
     "execution_count": 30,
     "metadata": {},
     "output_type": "execute_result"
    }
   ],
   "source": [
    "random.randint(-1, 1)"
   ]
  },
  {
   "cell_type": "markdown",
   "metadata": {},
   "source": [
    "`begin pseudozf4`"
   ]
  },
  {
   "cell_type": "code",
   "execution_count": 31,
   "metadata": {},
   "outputs": [],
   "source": [
    "import os\n",
    "# print(os.urandom.__doc__) #!"
   ]
  },
  {
   "cell_type": "code",
   "execution_count": 32,
   "metadata": {},
   "outputs": [
    {
     "data": {
      "text/plain": [
       "[222, 114, 110, 83]"
      ]
     },
     "execution_count": 32,
     "metadata": {},
     "output_type": "execute_result"
    }
   ],
   "source": [
    "\n",
    "# Vier zufällige Bytes erzeugen (Werte in [0, 255])\n",
    "random_bytes = list(os.urandom(4))"
   ]
  },
  {
   "cell_type": "markdown",
   "metadata": {},
   "source": [
    "`end pseudozf4`"
   ]
  },
  {
   "cell_type": "markdown",
   "metadata": {},
   "source": [
    "### Histogramme und Verteilungen"
   ]
  },
  {
   "cell_type": "code",
   "execution_count": 33,
   "metadata": {},
   "outputs": [],
   "source": [
    "np.random.seed(123)"
   ]
  },
  {
   "cell_type": "markdown",
   "metadata": {},
   "source": [
    "`begin hist1`"
   ]
  },
  {
   "cell_type": "code",
   "execution_count": 34,
   "metadata": {},
   "outputs": [
    {
     "data": {
      "text/plain": [
       "array([0.5, 1.5, 2.5, 3.5, 4.5, 5.5, 6.5])"
      ]
     },
     "execution_count": 34,
     "metadata": {},
     "output_type": "execute_result"
    }
   ],
   "source": [
    "import matplotlib.pyplot as plt\n",
    "we = np.random.randint(1, 7, size=3000) # Würfelergebnisse\n",
    "grenzen = np.arange(7)+0.5"
   ]
  },
  {
   "cell_type": "code",
   "execution_count": 35,
   "metadata": {},
   "outputs": [
    {
     "name": "stdout",
     "output_type": "stream",
     "text": [
      "Siehe Abbildung §\\ref{fig_hist1}§\n"
     ]
    },
    {
     "data": {
      "image/png": "[encoded data removed]",
      "text/plain": [
       "<Figure size 432x288 with 1 Axes>"
      ]
     },
     "metadata": {
      "needs_background": "light"
     },
     "output_type": "display_data"
    }
   ],
   "source": [
    "plt.hist(we, bins=grenzen, rwidth=0.9)\n",
    "show_book(\"hist1\") #!"
   ]
  },
  {
   "cell_type": "markdown",
   "metadata": {},
   "source": [
    "`end hist1`"
   ]
  },
  {
   "cell_type": "code",
   "execution_count": 36,
   "metadata": {},
   "outputs": [
    {
     "data": {
      "text/plain": [
       "(array([1., 3.]), array([0, 1, 2]), <BarContainer object of 2 artists>)"
      ]
     },
     "execution_count": 36,
     "metadata": {},
     "output_type": "execute_result"
    },
    {
     "data": {
      "image/png": "[encoded data removed]",
      "text/plain": [
       "<Figure size 432x288 with 1 Axes>"
      ]
     },
     "metadata": {
      "needs_background": "light"
     },
     "output_type": "display_data"
    }
   ],
   "source": [
    "# Zusatzinfo: wie werden die Klassengrenzen berücksichtig?\n",
    "# -> obere Grenze ist exklusive, bis auf die letzte.\n",
    "res = plt.hist([0, 1, 1, 2, ], bins=[0, 1, 2])\n",
    "# Die Klassen entsprechend den Intervallen: [0, 1), [1, 2]"
   ]
  },
  {
   "cell_type": "markdown",
   "metadata": {},
   "source": [
    "`begin hist1b`"
   ]
  },
  {
   "cell_type": "code",
   "execution_count": 37,
   "metadata": {},
   "outputs": [
    {
     "data": {
      "text/plain": [
       "(array([499, 496, 507, 532, 477, 489]),\n",
       " array([0.5, 1.5, 2.5, 3.5, 4.5, 5.5, 6.5]))"
      ]
     },
     "execution_count": 37,
     "metadata": {},
     "output_type": "execute_result"
    }
   ],
   "source": [
    "# Histogram ohne grafische Darstellung\n",
    "res = np.histogram(we, bins=grenzen)"
   ]
  },
  {
   "cell_type": "markdown",
   "metadata": {},
   "source": [
    "`end hist1b`"
   ]
  },
  {
   "cell_type": "markdown",
   "metadata": {},
   "source": [
    "#### Binomialverteilung"
   ]
  },
  {
   "cell_type": "markdown",
   "metadata": {},
   "source": [
    "Experiment: wie oft ist eine 6 zu erwarten, wenn 12mal hintereinander gewürfelt wird."
   ]
  },
  {
   "cell_type": "code",
   "execution_count": 38,
   "metadata": {},
   "outputs": [],
   "source": [
    "np.random.seed(123)"
   ]
  },
  {
   "cell_type": "code",
   "execution_count": 39,
   "metadata": {},
   "outputs": [],
   "source": [
    "plt.rcParams['figure.subplot.left'] = .15"
   ]
  },
  {
   "cell_type": "markdown",
   "metadata": {},
   "source": [
    "`begin hist2`"
   ]
  },
  {
   "cell_type": "code",
   "execution_count": 40,
   "metadata": {},
   "outputs": [],
   "source": [
    "n = 12 # Anzahl der Würfel-Würfe\n",
    "N = 1000 # Anzahl der Wiederholungen von n Mal werfen\n",
    "erfolge = []\n",
    "for i in range(N):\n",
    "    we = np.random.randint(1, 7, size=(n,))\n",
    "    erfolge.append(np.count_nonzero(we==6))"
   ]
  },
  {
   "cell_type": "code",
   "execution_count": 41,
   "metadata": {},
   "outputs": [
    {
     "name": "stdout",
     "output_type": "stream",
     "text": [
      "[121. 281. 278. 212.  74.  28.   6.]\n",
      "Siehe Abbildung §\\ref{fig_hist2}§\n"
     ]
    },
    {
     "data": {
      "image/png": "[encoded data removed]",
      "text/plain": [
       "<Figure size 432x288 with 1 Axes>"
      ]
     },
     "metadata": {
      "needs_background": "light"
     },
     "output_type": "display_data"
    }
   ],
   "source": [
    "res = plt.hist(erfolge, bins=7, rwidth=0.9)\n",
    "print(res[0])\n",
    "plt.xlabel(\"$k$\") #!\n",
    "plt.ylabel(\"Häufigkeit\") #!\n",
    "show_book(\"hist2\") #!"
   ]
  },
  {
   "cell_type": "markdown",
   "metadata": {},
   "source": [
    "`end hist2`"
   ]
  },
  {
   "cell_type": "markdown",
   "metadata": {},
   "source": [
    "`begin hist2b`"
   ]
  },
  {
   "cell_type": "code",
   "execution_count": 42,
   "metadata": {},
   "outputs": [
    {
     "data": {
      "text/plain": [
       "0.2960935686313839"
      ]
     },
     "execution_count": 42,
     "metadata": {},
     "output_type": "execute_result"
    }
   ],
   "source": [
    "sc.special.binom(12, 2)*(1/6)**2*(5/6)**(10)"
   ]
  },
  {
   "cell_type": "markdown",
   "metadata": {},
   "source": [
    "`end hist2b`"
   ]
  },
  {
   "cell_type": "code",
   "execution_count": 43,
   "metadata": {},
   "outputs": [],
   "source": [
    "np.random.seed(123)"
   ]
  },
  {
   "cell_type": "markdown",
   "metadata": {},
   "source": [
    "`begin hist2c`"
   ]
  },
  {
   "cell_type": "code",
   "execution_count": 44,
   "metadata": {},
   "outputs": [
    {
     "data": {
      "text/plain": [
       "(array([111, 270, 312, 180,  88,  30,   9]),\n",
       " array([0., 1., 2., 3., 4., 5., 6., 7.]))"
      ]
     },
     "execution_count": 44,
     "metadata": {},
     "output_type": "execute_result"
    }
   ],
   "source": [
    "binom_res = np.random.binomial(n=12, p=1/6, size=1000)\n",
    "np.histogram(binom_res, bins=7)"
   ]
  },
  {
   "cell_type": "markdown",
   "metadata": {},
   "source": [
    "`end hist2c`"
   ]
  },
  {
   "cell_type": "markdown",
   "metadata": {},
   "source": [
    "`begin hist3`"
   ]
  },
  {
   "cell_type": "code",
   "execution_count": 45,
   "metadata": {},
   "outputs": [
    {
     "name": "stdout",
     "output_type": "stream",
     "text": [
      "Siehe Abbildung §\\ref{fig_hist3}§\n"
     ]
    },
    {
     "data": {
      "image/png": "[encoded data removed]",
      "text/plain": [
       "<Figure size 432x288 with 1 Axes>"
      ]
     },
     "metadata": {
      "needs_background": "light"
     },
     "output_type": "display_data"
    }
   ],
   "source": [
    "messwerte = 350 + np.random.normal(size=2000)\n",
    "plt.hist(messwerte, bins=21, rwidth=0.9)\n",
    "show_book(\"hist3\", saveandshow=False) # dieses Bild wird später besser generiert #!"
   ]
  },
  {
   "cell_type": "markdown",
   "metadata": {},
   "source": [
    "`end hist3`"
   ]
  },
  {
   "cell_type": "code",
   "execution_count": 46,
   "metadata": {},
   "outputs": [
    {
     "name": "stdout",
     "output_type": "stream",
     "text": [
      "Siehe Abbildung §\\ref{fig_hist3}§\n"
     ]
    },
    {
     "data": {
      "image/png": "[encoded data removed]",
      "text/plain": [
       "<Figure size 432x288 with 3 Axes>"
      ]
     },
     "metadata": {
      "needs_background": "light"
     },
     "output_type": "display_data"
    }
   ],
   "source": [
    "# Bild mit Histogramm **und** Normalverteilung generieren (inkls. plausibler Achsbeschriftung und Skalierung) \n",
    "\n",
    "np.random.seed(123)\n",
    "hist, bins, po1 = plt.hist(messwerte, bins=21, rwidth=0.9, label=\"Histogramm\")\n",
    "bw = np.diff(bins)[0] # Klassenbreite (bin width)\n",
    "\n",
    "plt.xlabel(\"$T$ in K\") #!\n",
    "plt.ylabel(\"Häufigkeit\") #!\n",
    "\n",
    "\n",
    "# Einzeichnen der Normalverteilung\n",
    "\n",
    "xx = np.linspace(-4, 4)\n",
    "# Dichte der Normalverteilung\n",
    "nn = (2*np.pi)**-.5*np.exp(-xx**2/2)\n",
    "\n",
    "ax1 = plt.gca() # \"get current axis object\" #!\n",
    "ax2 = ax1.twiny()\n",
    "ax3 = ax1.twinx()\n",
    "ax1.set_xlim(346, 354) #!\n",
    "ax1.set_ylim(0, 315) #!\n",
    "ax2.set_xlim(-4, 4)\n",
    "ax2.set_xlabel(\"$x$\")\n",
    "\n",
    "# Skalierungsfaktor so wählen, dass \n",
    "ax3.set_ylim(0, 315/len(messwerte)/bw)\n",
    "ax3.plot(xx+350, nn, color=\"0.7\", lw=3)\n",
    "ax3.set_ylabel(\"$p(x)$\")\n",
    "\n",
    "# unsichtbare Linie nur für die Legende\n",
    "po2, = ax1.plot([0, 1], [0, 1], color=\"0.7\", lw=3, label=\"Normalverteilung\")\n",
    "ax1.legend([po1, po2], [\"Histogramm\", \"Normalverteilung\"], fontsize=12)\n",
    "show_book(\"hist3\") # jetzt das Bild wirklkich speichern"
   ]
  },
  {
   "cell_type": "markdown",
   "metadata": {},
   "source": [
    "Skalierung überprüfen"
   ]
  },
  {
   "cell_type": "code",
   "execution_count": 47,
   "metadata": {},
   "outputs": [
    {
     "data": {
      "text/plain": [
       "0.9999561427967882"
      ]
     },
     "execution_count": 47,
     "metadata": {},
     "output_type": "execute_result"
    }
   ],
   "source": [
    "sum(nn)*np.diff(xx)[0]"
   ]
  },
  {
   "cell_type": "markdown",
   "metadata": {},
   "source": [
    "Gaußverteilung und Fehlerfunktion"
   ]
  },
  {
   "cell_type": "markdown",
   "metadata": {},
   "source": [
    "`begin hist4`"
   ]
  },
  {
   "cell_type": "code",
   "execution_count": 48,
   "metadata": {},
   "outputs": [],
   "source": [
    "def P_normal(a, mu=0, sigma=1):\n",
    "    return 0.5*(1+sc.special.erf((a-mu)/(2**.5*sigma)))"
   ]
  },
  {
   "cell_type": "code",
   "execution_count": 49,
   "metadata": {},
   "outputs": [
    {
     "data": {
      "text/plain": [
       "0.5"
      ]
     },
     "execution_count": 49,
     "metadata": {},
     "output_type": "execute_result"
    }
   ],
   "source": [
    "# Wahrscheinlichkeit für x < Mittelwert\n",
    "P_normal(0)"
   ]
  },
  {
   "cell_type": "code",
   "execution_count": 50,
   "metadata": {},
   "outputs": [
    {
     "data": {
      "text/plain": [
       "0.15865525393145707"
      ]
     },
     "execution_count": 50,
     "metadata": {},
     "output_type": "execute_result"
    }
   ],
   "source": [
    "# Wahrscheinlichkeit für x < -sigma\n",
    "P_normal(-1)"
   ]
  },
  {
   "cell_type": "code",
   "execution_count": 51,
   "metadata": {},
   "outputs": [
    {
     "data": {
      "text/plain": [
       "0.9973002039367398"
      ]
     },
     "execution_count": 51,
     "metadata": {},
     "output_type": "execute_result"
    }
   ],
   "source": [
    "# Wahrscheinlichkeit für -3sigma < x < 3sigma\n",
    "P_normal(3) - P_normal(-3)"
   ]
  },
  {
   "cell_type": "markdown",
   "metadata": {},
   "source": [
    "`end hist4`"
   ]
  },
  {
   "cell_type": "markdown",
   "metadata": {},
   "source": [
    "`begin hist5`"
   ]
  },
  {
   "cell_type": "code",
   "execution_count": 52,
   "metadata": {},
   "outputs": [
    {
     "data": {
      "text/plain": [
       "0.9179150013761012"
      ]
     },
     "execution_count": 52,
     "metadata": {},
     "output_type": "execute_result"
    }
   ],
   "source": [
    "lmd = 5 # Fehlkorkungen pro Stunde\n",
    "T = 30 / 60 # 30min in Stunden\n",
    "P30 = 1 - np.exp(-lmd*T) "
   ]
  },
  {
   "cell_type": "markdown",
   "metadata": {},
   "source": [
    "`end hist5`"
   ]
  },
  {
   "cell_type": "code",
   "execution_count": 53,
   "metadata": {},
   "outputs": [],
   "source": [
    "plt.rcParams.update(double_plt_rcParams)\n",
    "plt.rcParams['figure.subplot.left'] = .15"
   ]
  },
  {
   "cell_type": "markdown",
   "metadata": {},
   "source": [
    "`begin hist6`"
   ]
  },
  {
   "cell_type": "code",
   "execution_count": 54,
   "metadata": {},
   "outputs": [
    {
     "name": "stdout",
     "output_type": "stream",
     "text": [
      "Siehe Abbildung §\\ref{fig_hist4_exp}§\n"
     ]
    },
    {
     "data": {
      "image/png": "[encoded data removed]",
      "text/plain": [
       "<Figure size 432x288 with 1 Axes>"
      ]
     },
     "metadata": {
      "needs_background": "light"
     },
     "output_type": "display_data"
    }
   ],
   "source": [
    "intervalle = np.random.exponential(1/lmd, size=1000)\n",
    "plt.hist(intervalle, rwidth=0.9)\n",
    "plt.xlabel(\"$\\Delta t$ in h\") #!\n",
    "plt.ylabel(\"Häufigkeit\") #!\n",
    "show_book(\"hist4_exp\") #!"
   ]
  },
  {
   "cell_type": "markdown",
   "metadata": {},
   "source": [
    "`end hist6`"
   ]
  },
  {
   "cell_type": "code",
   "execution_count": 55,
   "metadata": {},
   "outputs": [],
   "source": [
    "plt.rcParams['figure.subplot.left'] = .05"
   ]
  },
  {
   "cell_type": "markdown",
   "metadata": {},
   "source": [
    "`begin hist7`"
   ]
  },
  {
   "cell_type": "code",
   "execution_count": 56,
   "metadata": {},
   "outputs": [
    {
     "data": {
      "image/png": "[encoded data removed]",
      "text/plain": [
       "<Figure size 432x288 with 1 Axes>"
      ]
     },
     "metadata": {
      "needs_background": "light"
     },
     "output_type": "display_data"
    }
   ],
   "source": [
    "# Visualisierung der zufälligen Fehlerzeitpunkte\n",
    "tt = np.cumsum(intervalle)[:200]\n",
    "plt.plot(tt, tt*0, \"|\", ms=150, alpha=0.5)\n",
    "plt.yticks([]) # Kein Beschriftung an der y-Achse #!\n",
    "plt.xlabel(\"$t$ in h\") #!\n",
    "show_book(\"hist4_zp\", printflag=False) #!"
   ]
  },
  {
   "cell_type": "markdown",
   "metadata": {},
   "source": [
    "`end hist7`"
   ]
  },
  {
   "cell_type": "markdown",
   "metadata": {},
   "source": [
    "`begin mw1`"
   ]
  },
  {
   "cell_type": "code",
   "execution_count": 57,
   "metadata": {},
   "outputs": [
    {
     "data": {
      "text/plain": [
       "array([0, 1, 2, 3, 4, 5, 6, 7, 8, 9])"
      ]
     },
     "execution_count": 57,
     "metadata": {},
     "output_type": "execute_result"
    }
   ],
   "source": [
    "data = np.arange(10)"
   ]
  },
  {
   "cell_type": "code",
   "execution_count": 58,
   "metadata": {},
   "outputs": [
    {
     "data": {
      "text/plain": [
       "4.5"
      ]
     },
     "execution_count": 58,
     "metadata": {},
     "output_type": "execute_result"
    }
   ],
   "source": [
    "mittel = np.mean(data)"
   ]
  },
  {
   "cell_type": "markdown",
   "metadata": {},
   "source": [
    "`end mw1`"
   ]
  },
  {
   "cell_type": "markdown",
   "metadata": {},
   "source": [
    "`begin mw2`"
   ]
  },
  {
   "cell_type": "code",
   "execution_count": 59,
   "metadata": {},
   "outputs": [
    {
     "data": {
      "text/plain": [
       "8.25"
      ]
     },
     "execution_count": 59,
     "metadata": {},
     "output_type": "execute_result"
    }
   ],
   "source": [
    "np.var(data) # (empirische) Varianz"
   ]
  },
  {
   "cell_type": "code",
   "execution_count": 60,
   "metadata": {},
   "outputs": [
    {
     "data": {
      "text/plain": [
       "8.25"
      ]
     },
     "execution_count": 60,
     "metadata": {},
     "output_type": "execute_result"
    }
   ],
   "source": [
    "np.mean((data - mittel)**2)"
   ]
  },
  {
   "cell_type": "code",
   "execution_count": 61,
   "metadata": {},
   "outputs": [
    {
     "data": {
      "text/plain": [
       "2.8722813232690143"
      ]
     },
     "execution_count": 61,
     "metadata": {},
     "output_type": "execute_result"
    }
   ],
   "source": [
    "np.std(data) # (empirische) Standardabweichung"
   ]
  },
  {
   "cell_type": "markdown",
   "metadata": {},
   "source": [
    "`end mw2`"
   ]
  },
  {
   "cell_type": "markdown",
   "metadata": {},
   "source": [
    "`begin mw3`"
   ]
  },
  {
   "cell_type": "code",
   "execution_count": 62,
   "metadata": {},
   "outputs": [
    {
     "data": {
      "text/plain": [
       "9.166666666666666"
      ]
     },
     "execution_count": 62,
     "metadata": {},
     "output_type": "execute_result"
    }
   ],
   "source": [
    "np.var(data, ddof=1) # korrigierte Stichprobenvarianz"
   ]
  },
  {
   "cell_type": "markdown",
   "metadata": {},
   "source": [
    "`end mw3`"
   ]
  },
  {
   "cell_type": "code",
   "execution_count": 63,
   "metadata": {},
   "outputs": [
    {
     "data": {
      "text/plain": [
       "0.8994956292420753"
      ]
     },
     "execution_count": 63,
     "metadata": {},
     "output_type": "execute_result"
    }
   ],
   "source": [
    "# Erwartungstreue-Problematik nachvollziehen\n",
    "M = 10000\n",
    "N = 10\n",
    "var_vals = []\n",
    "for i in range(M):\n",
    "    d = np.random.normal(size=N) # Normalverteilte Daten (mu=0, sigma=1)\n",
    "    var_vals.append(np.var(d)) # empirische Varianz\n",
    "\n",
    "np.mean(var_vals) # Ergebnis liegt bei (N-1)/N*sigma "
   ]
  },
  {
   "cell_type": "markdown",
   "metadata": {},
   "source": [
    "`begin mw4`"
   ]
  },
  {
   "cell_type": "code",
   "execution_count": 64,
   "metadata": {},
   "outputs": [
    {
     "data": {
      "text/plain": [
       "array([[0.42755863, 0.13009006, 0.95315371, 0.81341591],\n",
       "       [0.98492905, 0.56740597, 0.7358766 , 0.84531373]])"
      ]
     },
     "execution_count": 64,
     "metadata": {},
     "output_type": "execute_result"
    }
   ],
   "source": [
    "data = np.random.random((2, 4))"
   ]
  },
  {
   "cell_type": "code",
   "execution_count": 65,
   "metadata": {},
   "outputs": [
    {
     "data": {
      "text/plain": [
       "0.6822179580378795"
      ]
     },
     "execution_count": 65,
     "metadata": {},
     "output_type": "execute_result"
    }
   ],
   "source": [
    "np.mean(data) # Mittelwert über gesamtes Array"
   ]
  },
  {
   "cell_type": "code",
   "execution_count": 66,
   "metadata": {},
   "outputs": [
    {
     "data": {
      "text/plain": [
       "array([0.70624384, 0.34874801, 0.84451516, 0.82936482])"
      ]
     },
     "execution_count": 66,
     "metadata": {},
     "output_type": "execute_result"
    }
   ],
   "source": [
    "np.mean(data, axis=0) # Mittelwert entlang Spaltenachse"
   ]
  },
  {
   "cell_type": "code",
   "execution_count": 67,
   "metadata": {},
   "outputs": [
    {
     "data": {
      "text/plain": [
       "array([0.58105458, 0.78338134])"
      ]
     },
     "execution_count": 67,
     "metadata": {},
     "output_type": "execute_result"
    }
   ],
   "source": [
    "np.mean(data, axis=1) # Mittelwert entlang Zeilenachse"
   ]
  },
  {
   "cell_type": "code",
   "execution_count": 68,
   "metadata": {},
   "outputs": [],
   "source": [
    "# np.var und np.std analog"
   ]
  },
  {
   "cell_type": "markdown",
   "metadata": {},
   "source": [
    "`end mw4`"
   ]
  },
  {
   "cell_type": "markdown",
   "metadata": {},
   "source": [
    "`begin median1`"
   ]
  },
  {
   "cell_type": "code",
   "execution_count": 69,
   "metadata": {},
   "outputs": [
    {
     "data": {
      "text/plain": [
       "2.0"
      ]
     },
     "execution_count": 69,
     "metadata": {},
     "output_type": "execute_result"
    }
   ],
   "source": [
    "np.median([2, 7, 500, 0, 0])"
   ]
  },
  {
   "cell_type": "code",
   "execution_count": 70,
   "metadata": {},
   "outputs": [
    {
     "data": {
      "text/plain": [
       "array([[0.0878434 , 0.86702164, 0.1797399 , 0.39128349],\n",
       "       [0.03778168, 0.33568412, 0.73903365, 0.47623539]])"
      ]
     },
     "execution_count": 70,
     "metadata": {},
     "output_type": "execute_result"
    }
   ],
   "source": [
    "data = np.random.random((2, 4))"
   ]
  },
  {
   "cell_type": "code",
   "execution_count": 71,
   "metadata": {},
   "outputs": [
    {
     "data": {
      "text/plain": [
       "array([0.28551169, 0.40595975])"
      ]
     },
     "execution_count": 71,
     "metadata": {},
     "output_type": "execute_result"
    }
   ],
   "source": [
    "np.median(data, axis=1) # Median über die Zeilen"
   ]
  },
  {
   "cell_type": "markdown",
   "metadata": {},
   "source": [
    "`end median1`"
   ]
  },
  {
   "cell_type": "code",
   "execution_count": 72,
   "metadata": {},
   "outputs": [],
   "source": [
    "np.random.seed(123)"
   ]
  },
  {
   "cell_type": "markdown",
   "metadata": {},
   "source": [
    "`begin median2`"
   ]
  },
  {
   "cell_type": "code",
   "execution_count": 73,
   "metadata": {},
   "outputs": [
    {
     "data": {
      "text/plain": [
       "5.668865747717938"
      ]
     },
     "execution_count": 73,
     "metadata": {},
     "output_type": "execute_result"
    }
   ],
   "source": [
    "druck_data = 5 + np.random.normal(size=1000)\n",
    "np.quantile(druck_data, 0.75)"
   ]
  },
  {
   "cell_type": "markdown",
   "metadata": {},
   "source": [
    "`end median2`"
   ]
  },
  {
   "cell_type": "markdown",
   "metadata": {},
   "source": [
    "`begin median3`"
   ]
  },
  {
   "cell_type": "code",
   "execution_count": 74,
   "metadata": {},
   "outputs": [
    {
     "data": {
      "text/plain": [
       "35.444401631356456"
      ]
     },
     "execution_count": 74,
     "metadata": {},
     "output_type": "execute_result"
    }
   ],
   "source": [
    "lmd = 5 # Fehlerrate pro Stunde\n",
    "intervalle = np.random.exponential(1/lmd, size=10000)\n",
    "np.quantile(intervalle, 0.95) * 60"
   ]
  },
  {
   "cell_type": "markdown",
   "metadata": {},
   "source": [
    "`end median3`"
   ]
  },
  {
   "cell_type": "markdown",
   "metadata": {},
   "source": [
    "`begin median4`"
   ]
  },
  {
   "cell_type": "code",
   "execution_count": 75,
   "metadata": {},
   "outputs": [
    {
     "name": "stdout",
     "output_type": "stream",
     "text": [
      "Siehe Abbildung §\\ref{fig_hist5_quantile}§\n"
     ]
    },
    {
     "data": {
      "image/png": "[encoded data removed]",
      "text/plain": [
       "<Figure size 432x288 with 1 Axes>"
      ]
     },
     "metadata": {
      "needs_background": "light"
     },
     "output_type": "display_data"
    }
   ],
   "source": [
    "hist = plt.hist(intervalle, bins=50, rwidth=0.8)[0]\n",
    "q050 = np.median(intervalle)\n",
    "q095 = np.quantile(intervalle, 0.95)\n",
    "plt.plot([q050, q050], [0, max(hist)*1.1], color=\"orange\", label=\"$x_{0.5}$ (Median)\")\n",
    "plt.plot([q095, q095], [0, max(hist)*1.1], color=\"red\", label=\"$x_{0.95}$\")\n",
    "plt.legend() #!\n",
    "plt.xlabel(\"$t$ in h\")\n",
    "plt.ylabel(\"Häufigkeit\")\n",
    "show_book(\"hist5_quantile\") #!"
   ]
  },
  {
   "cell_type": "markdown",
   "metadata": {},
   "source": [
    "`end median4`"
   ]
  },
  {
   "cell_type": "markdown",
   "metadata": {},
   "source": [
    "## Fehlerbalken und Boxplots\n",
    "\n",
    "Am Beispiel von Windgeschwindigkeiten\n",
    "Ein Inspirationsquelle:\n",
    "https://www.grund-wissen.de/diplomarbeit/statistische-analyse-von-wetterdaten.html#fig-windverteilung-2"
   ]
  },
  {
   "cell_type": "markdown",
   "metadata": {},
   "source": [
    "`begin wind1`"
   ]
  },
  {
   "cell_type": "code",
   "execution_count": 76,
   "metadata": {},
   "outputs": [
    {
     "data": {
      "image/png": "[encoded data removed]",
      "text/plain": [
       "<Figure size 432x288 with 1 Axes>"
      ]
     },
     "metadata": {
      "needs_background": "light"
     },
     "output_type": "display_data"
    }
   ],
   "source": [
    "wind_data = np.random.weibull(1.8, size=(365, 24))*5\n",
    "plt.hist(wind_data.flat, bins=20, rwidth=0.8) # Grafik nicht ins Buch #!\n",
    "pass #!"
   ]
  },
  {
   "cell_type": "code",
   "execution_count": 77,
   "metadata": {},
   "outputs": [
    {
     "data": {
      "image/png": "[encoded data removed]",
      "text/plain": [
       "<Figure size 432x288 with 1 Axes>"
      ]
     },
     "metadata": {
      "needs_background": "light"
     },
     "output_type": "display_data"
    }
   ],
   "source": [
    "tt = np.arange(0, 24)\n",
    "# Skalierung: Nachts weht tendenziell weniger Wind \n",
    "scale = 0.6-0.4*np.cos(2*np.pi*tt/24)\n",
    "plt.plot(tt, scale) # Grafik nicht im Buch #!\n",
    "plt.ylim([0, 1.1]) #!\n",
    "pass #!"
   ]
  },
  {
   "cell_type": "code",
   "execution_count": 78,
   "metadata": {},
   "outputs": [
    {
     "data": {
      "text/plain": [
       "(365, 24)"
      ]
     },
     "execution_count": 78,
     "metadata": {},
     "output_type": "execute_result"
    }
   ],
   "source": [
    "\n",
    "# Zeilenweise Anwendung der Skalierung (Broadcasting)\n",
    "# (365, 24)-Array * (24,)-Array -> (365, 24)-Array\n",
    "swd = wind_data*scale # Skalierte Wind-Daten\n",
    "swd.shape"
   ]
  },
  {
   "cell_type": "markdown",
   "metadata": {},
   "source": [
    "`end wind1`"
   ]
  },
  {
   "cell_type": "markdown",
   "metadata": {},
   "source": [
    "`begin wind2`"
   ]
  },
  {
   "cell_type": "code",
   "execution_count": 79,
   "metadata": {},
   "outputs": [
    {
     "name": "stdout",
     "output_type": "stream",
     "text": [
      "Siehe Abbildung §\\ref{fig_wind2}§\n"
     ]
    },
    {
     "data": {
      "image/png": "[encoded data removed]",
      "text/plain": [
       "<Figure size 432x288 with 1 Axes>"
      ]
     },
     "metadata": {
      "needs_background": "light"
     },
     "output_type": "display_data"
    }
   ],
   "source": [
    "# Mittelwert und Standardabweichung Spaltenweise berechnen\n",
    "mw = np.mean(swd, axis=0)\n",
    "std = np.std(swd, ddof=1, axis=0)\n",
    "plt.errorbar(tt, mw, yerr=std, capsize=3)\n",
    "plt.fill_between(tt, mw-std, mw+std, alpha=0.1, color=\"0.5\")\n",
    "plt.ylim([-0.3, 7.8])\n",
    "plt.xlabel(\"Tageszeit in $h$\") #!\n",
    "plt.ylabel(r\"Windgeschwindigkeit in $\\frac{\\mathrm m}{\\mathrm s}$\") #!\n",
    "show_book(\"wind2\") #!"
   ]
  },
  {
   "cell_type": "markdown",
   "metadata": {},
   "source": [
    "`end wind2`"
   ]
  },
  {
   "cell_type": "code",
   "execution_count": 80,
   "metadata": {},
   "outputs": [],
   "source": [
    "plt.rcParams['figure.subplot.left'] = .18"
   ]
  },
  {
   "cell_type": "markdown",
   "metadata": {},
   "source": [
    "`begin wind3`"
   ]
  },
  {
   "cell_type": "code",
   "execution_count": 81,
   "metadata": {},
   "outputs": [
    {
     "name": "stdout",
     "output_type": "stream",
     "text": [
      "Siehe Abbildung §\\ref{fig_wind3}§\n"
     ]
    },
    {
     "data": {
      "image/png": "[encoded data removed]",
      "text/plain": [
       "<Figure size 432x288 with 1 Axes>"
      ]
     },
     "metadata": {
      "needs_background": "light"
     },
     "output_type": "display_data"
    }
   ],
   "source": [
    "hour_data = list(swd.T)\n",
    "plt.boxplot(x=hour_data, positions=tt, showfliers=False)\n",
    "# #!\n",
    "# Nur jede zweite Stunde auf x-Achse eintragen (Leserlichkeit) #!\n",
    "ax1 = plt.gca() #!\n",
    "ax1.set_xticklabels([f\"${i}$\" if i%2 == 0 else \"\" for i in range(24)]) #!\n",
    "plt.xlabel(\"Tageszeit in $h$\") #!\n",
    "plt.ylabel(r\"Windgeschwindigkeit in $\\frac{\\mathrm m}{\\mathrm s}$\") #!\n",
    "show_book(\"wind3\") #!"
   ]
  },
  {
   "cell_type": "markdown",
   "metadata": {},
   "source": [
    "`end wind3`"
   ]
  },
  {
   "cell_type": "markdown",
   "metadata": {},
   "source": [
    "`begin wind4`"
   ]
  },
  {
   "cell_type": "code",
   "execution_count": 82,
   "metadata": {},
   "outputs": [
    {
     "name": "stdout",
     "output_type": "stream",
     "text": [
      "Siehe Abbildung §\\ref{fig_wind4}§\n"
     ]
    },
    {
     "data": {
      "image/png": "[encoded data removed]",
      "text/plain": [
       "<Figure size 432x288 with 1 Axes>"
      ]
     },
     "metadata": {
      "needs_background": "light"
     },
     "output_type": "display_data"
    }
   ],
   "source": [
    "plt.violinplot(hour_data[::2], positions=tt[::2], widths=1.3,\n",
    "               showmedians=True)\n",
    "# #!\n",
    "plt.xlabel(\"Tageszeit in $h$\") #!\n",
    "plt.ylabel(r\"Windgeschwindigkeit in $\\frac{\\mathrm m}{\\mathrm s}$\") #!\n",
    "show_book(\"wind4\") #!"
   ]
  },
  {
   "cell_type": "markdown",
   "metadata": {},
   "source": [
    "`end wind4`"
   ]
  },
  {
   "cell_type": "code",
   "execution_count": 85,
   "metadata": {},
   "outputs": [
    {
     "name": "stdout",
     "output_type": "stream",
     "text": [
      "Extracting snippets in kapitel_statistik.ipynb\n",
      "Extracting snippets: komb1, komb2, komb3, komb4, komb5, komb6, komb7, komb8, komb9, komb10, komb11, komb12, pseudozf1, pseudozf2, pseudozf3, pseudozf4, hist1, hist1b, hist2, hist2b, hist2c, hist3, hist4, hist5, hist6, hist7, mw1, mw2, mw3, mw4, median1, median2, median3, median4, wind1, wind2, wind3, wind4\n",
      "Done\n"
     ]
    }
   ],
   "source": [
    "!python3 ../../nbsnippets.py kapitel_statistik.ipynb"
   ]
  }
 ],
 "metadata": {
  "kernelspec": {
   "display_name": "Python 3",
   "language": "python",
   "name": "python3"
  },
  "language_info": {
   "codemirror_mode": {
    "name": "ipython",
    "version": 3
   },
   "file_extension": ".py",
   "mimetype": "text/x-python",
   "name": "python",
   "nbconvert_exporter": "python",
   "pygments_lexer": "ipython3",
   "version": "3.8.6"
  }
 },
 "nbformat": 4,
 "nbformat_minor": 4
}
