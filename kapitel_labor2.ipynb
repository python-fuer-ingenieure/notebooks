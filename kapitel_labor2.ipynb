{
 "cells": [
  {
   "cell_type": "markdown",
   "metadata": {},
   "source": [
    "**Hinweis:** Dieses Notebook dient dazu, für die Socket-Kommunikation einen Server bereitzustellen, der auf eingehende Nachrichten antwortet"
   ]
  },
  {
   "cell_type": "code",
   "execution_count": 1,
   "metadata": {},
   "outputs": [],
   "source": [
    "# sorgt dafür, dass, wenn die letzte Zeile eine Zuweisung ist, deren Ergebnis auch ausgegeben wird\n",
    "%config InteractiveShell.ast_node_interactivity='last_expr_or_assign'"
   ]
  },
  {
   "cell_type": "code",
   "execution_count": null,
   "metadata": {},
   "outputs": [],
   "source": []
  },
  {
   "cell_type": "markdown",
   "metadata": {},
   "source": [
    "`begin socket_server1`"
   ]
  },
  {
   "cell_type": "code",
   "execution_count": 2,
   "metadata": {},
   "outputs": [
    {
     "name": "stdout",
     "output_type": "stream",
     "text": [
      "Server gestartet. Warte auf Verbindung.\n",
      "Verbindung von 127.0.0.1\n",
      "Verbindung beendet.\n"
     ]
    }
   ],
   "source": [
    "# Server\n",
    "import socket\n",
    "\n",
    "IP = \"127.0.0.1\"\n",
    "PORT = 50009 # beliebiger nicht privilegierter Port\n",
    "s = socket.socket() # leeres Kommunikationsobjekt anlegen\n",
    "s.bind((IP, PORT))\n",
    "s.listen() # Modus setzen: Warten auf Verbindungen\n",
    "print(\"Server gestartet. Warte auf Verbindung.\")\n",
    "s.settimeout(30)  # 30 Sekunden timeout (für s.accept)\n",
    "conn, addr = s.accept() # Warten auf Verbindung\n",
    "conn.settimeout(30)\n",
    "print('Verbindung von', addr[0])\n",
    "while True: # \"Endlosschleife\"\n",
    "    data = conn.recv(1024)\n",
    "    if len(data) == 0:\n",
    "        break # \"Endlosschleife\" beenden\n",
    "    response = b\"Die Nachricht war: \" + data\n",
    "    conn.send(response)\n",
    "print(\"Verbindung beendet.\")\n",
    "conn.close() # Verbindung schließen"
   ]
  },
  {
   "cell_type": "markdown",
   "metadata": {},
   "source": [
    "`end socket_server1`"
   ]
  },
  {
   "cell_type": "code",
   "execution_count": 3,
   "metadata": {},
   "outputs": [
    {
     "name": "stdout",
     "output_type": "stream",
     "text": [
      "Extracting snippets in kapitel_labor2.ipynb\r\n",
      "Extracting snippets: socket_server1\r\n",
      "Done\r\n"
     ]
    }
   ],
   "source": [
    "!python3 ../../nbsnippets.py kapitel_labor2.ipynb"
   ]
  },
  {
   "cell_type": "code",
   "execution_count": null,
   "metadata": {},
   "outputs": [],
   "source": []
  }
 ],
 "metadata": {
  "kernelspec": {
   "display_name": "Python 3",
   "language": "python",
   "name": "python3"
  },
  "language_info": {
   "codemirror_mode": {
    "name": "ipython",
    "version": 3
   },
   "file_extension": ".py",
   "mimetype": "text/x-python",
   "name": "python",
   "nbconvert_exporter": "python",
   "pygments_lexer": "ipython3",
   "version": "3.8.6"
  }
 },
 "nbformat": 4,
 "nbformat_minor": 4
}
