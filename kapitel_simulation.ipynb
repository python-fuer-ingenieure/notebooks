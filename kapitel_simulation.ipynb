{
 "cells": [
  {
   "cell_type": "code",
   "execution_count": 1,
   "metadata": {},
   "outputs": [],
   "source": [
    "# sorgt dafür, dass, wenn die letzte Zeile eine Zuweisung ist, deren Ergebnis auch ausgegeben wird\n",
    "%config InteractiveShell.ast_node_interactivity='last_expr_or_assign'\n",
    "\n",
    "# Im Quelltext wird dieses Verhalten mit dem Kommentar `#:` gekennzeichnet"
   ]
  },
  {
   "cell_type": "code",
   "execution_count": 2,
   "metadata": {},
   "outputs": [],
   "source": [
    "import matplotlib.pyplot as plt\n",
    "\n",
    "def show_book(figname):\n",
    "    \"\"\"\n",
    "    Diese Funktion dient dazu Abbildungen abzuspeichern und den Name der Abbildung\n",
    "    mit in den Quelltextschnipsel einzufügen\n",
    "    \"\"\"\n",
    "    print(r\"Siehe Abbildung §\\ref{fig_XXX}§\".replace(\"XXX\", figname))\n",
    "    plt.savefig(f\"{figname}_snip.pdf\")\n",
    "    plt.show()"
   ]
  },
  {
   "cell_type": "markdown",
   "metadata": {},
   "source": [
    "`begin general_rhs`"
   ]
  },
  {
   "cell_type": "code",
   "execution_count": 3,
   "metadata": {},
   "outputs": [],
   "source": [
    "def rhs(x):\n",
    "    ... # Berechne Ableitung dx\n",
    "    return dx"
   ]
  },
  {
   "cell_type": "markdown",
   "metadata": {},
   "source": [
    "`end general_rhs`"
   ]
  },
  {
   "cell_type": "code",
   "execution_count": 4,
   "metadata": {},
   "outputs": [],
   "source": [
    "import numpy as np\n",
    "from numpy import sin\n",
    "import matplotlib.pyplot as plt"
   ]
  },
  {
   "cell_type": "code",
   "execution_count": 5,
   "metadata": {},
   "outputs": [],
   "source": [
    "plt.rcParams['text.usetex'] = True\n",
    "plt.rcParams['font.size'] = 14\n",
    "plt.rcParams['legend.fontsize'] = 18"
   ]
  },
  {
   "cell_type": "markdown",
   "metadata": {},
   "source": [
    "`begin rhs_pendel1`"
   ]
  },
  {
   "cell_type": "code",
   "execution_count": 6,
   "metadata": {},
   "outputs": [],
   "source": [
    "def rhs_pendel(t, x):\n",
    "    g = 9.81\n",
    "    l = 0.1\n",
    "\n",
    "    dx1 = x[1]\n",
    "    dx2 = -g/l*sin(x[0])\n",
    "    dx = np.array([dx1, dx2])\n",
    "    return dx"
   ]
  },
  {
   "cell_type": "markdown",
   "metadata": {},
   "source": [
    "`end rhs_pendel1`"
   ]
  },
  {
   "cell_type": "markdown",
   "metadata": {},
   "source": [
    "`begin euler_solver1`"
   ]
  },
  {
   "cell_type": "code",
   "execution_count": 7,
   "metadata": {},
   "outputs": [],
   "source": [
    "def euler_solver(rhs, dt, Tend, x0):\n",
    "    res_t = np.arange(0, Tend, dt)\n",
    "    res_x = np.zeros((len(res_t), len(x0)))\n",
    "    x = res_x[0, :] = x0\n",
    "    for i, t in enumerate(res_t):\n",
    "        x += dt*rhs(t, x)\n",
    "        res_x[i, :] = x\n",
    "    return res_t, res_x"
   ]
  },
  {
   "cell_type": "markdown",
   "metadata": {},
   "source": [
    "`end euler_solver1`"
   ]
  },
  {
   "cell_type": "markdown",
   "metadata": {},
   "source": [
    "`begin pendel_sim1`"
   ]
  },
  {
   "cell_type": "code",
   "execution_count": 8,
   "metadata": {},
   "outputs": [
    {
     "name": "stdout",
     "output_type": "stream",
     "text": [
      "Siehe Abbildung §\\ref{fig_pendel_euler1}§\n"
     ]
    },
    {
     "data": {
      "image/png": "[encoded data removed]",
      "text/plain": [
       "<Figure size 432x288 with 1 Axes>"
      ]
     },
     "metadata": {
      "needs_background": "light"
     },
     "output_type": "display_data"
    }
   ],
   "source": [
    "tt, xx = euler_solver(rhs_pendel, .001, 5, [np.pi*.75, 0])\n",
    "\n",
    "plt.plot(tt, np.array(xx)[:, 0], label=r\"$\\varphi$\")\n",
    "plt.plot(tt, np.array(xx)[:, 1], label=r\"$\\dot \\varphi$\")\n",
    "plt.xlabel(r\"$t$ in s\") #!\n",
    "plt.ylabel(r\"${}^\\circ$ bzw. ${}^\\circ$/s \") #!\n",
    "plt.legend(loc=\"upper right\") #!\n",
    "show_book(\"pendel_euler1\") #!"
   ]
  },
  {
   "cell_type": "markdown",
   "metadata": {},
   "source": [
    "`end pendel_sim1`"
   ]
  },
  {
   "cell_type": "markdown",
   "metadata": {},
   "source": [
    "`begin pendel_sim2`"
   ]
  },
  {
   "cell_type": "code",
   "execution_count": 9,
   "metadata": {},
   "outputs": [],
   "source": [
    "np.set_printoptions(linewidth=60, precision=4)"
   ]
  },
  {
   "cell_type": "code",
   "execution_count": 10,
   "metadata": {},
   "outputs": [
    {
     "data": {
      "text/plain": [
       "  message: 'The solver successfully reached the end of the integration interval.'\n",
       "     nfev: 428\n",
       "     njev: 0\n",
       "      nlu: 0\n",
       "      sol: None\n",
       "   status: 0\n",
       "  success: True\n",
       "        t: array([0.0000e+00, 1.0002e-03, 2.0004e-03, ..., 4.9980e+00,\n",
       "       4.9990e+00, 5.0000e+00])\n",
       " t_events: None\n",
       "        y: array([[  2.3562,   2.3562,   2.3561, ...,   1.3201,\n",
       "          1.3064,   1.2926],\n",
       "       [  0.    ,  -0.0694,  -0.1388, ..., -13.6377,\n",
       "        -13.7326, -13.8271]])\n",
       " y_events: None"
      ]
     },
     "execution_count": 10,
     "metadata": {},
     "output_type": "execute_result"
    }
   ],
   "source": [
    "from scipy.integrate import solve_ivp\n",
    "# ...\n",
    "x0 = [np.pi*0.75, 0]\n",
    "tt = np.linspace(0, 5, 5000)\n",
    "res = solve_ivp(rhs_pendel, (0, 5), x0, t_eval=tt)\n",
    "#!plt.plot(res.t, res.y.T, label=r\"$\\varphi$\")\n",
    "# (Grafik kaum verändert -> nicht angezeigt)\n",
    "# Grafik soll im Buch nicht wiederholt werden -> erst in nächster Zelle anzeigen #!"
   ]
  },
  {
   "cell_type": "markdown",
   "metadata": {},
   "source": [
    "`end pendel_sim2`"
   ]
  },
  {
   "cell_type": "code",
   "execution_count": 11,
   "metadata": {},
   "outputs": [
    {
     "data": {
      "text/plain": [
       "(5000,)"
      ]
     },
     "execution_count": 11,
     "metadata": {},
     "output_type": "execute_result"
    }
   ],
   "source": [
    "res.t.shape"
   ]
  },
  {
   "cell_type": "code",
   "execution_count": 12,
   "metadata": {},
   "outputs": [
    {
     "data": {
      "text/plain": [
       "(2, 5000)"
      ]
     },
     "execution_count": 12,
     "metadata": {},
     "output_type": "execute_result"
    }
   ],
   "source": [
    "res.y.shape"
   ]
  },
  {
   "cell_type": "code",
   "execution_count": 13,
   "metadata": {},
   "outputs": [
    {
     "data": {
      "text/plain": [
       "Text(0, 0.5, '${}^\\\\circ$ bzw. ${}^\\\\circ$/s ')"
      ]
     },
     "execution_count": 13,
     "metadata": {},
     "output_type": "execute_result"
    },
    {
     "data": {
      "image/png": "[encoded data removed]",
      "text/plain": [
       "<Figure size 432x288 with 1 Axes>"
      ]
     },
     "metadata": {
      "needs_background": "light"
     },
     "output_type": "display_data"
    }
   ],
   "source": [
    "plt.plot(res.t, res.y.T) #!\n",
    "plt.xlabel(r\"$t$ in s\") #!\n",
    "plt.ylabel(r\"${}^\\circ$ bzw. ${}^\\circ$/s \") #!"
   ]
  },
  {
   "cell_type": "markdown",
   "metadata": {},
   "source": [
    "Bemerkung: Die Ergebnisse unterscheiden sich (leicht) auf Grund der numerischen Ungenauigkeit des Euler-Solvers."
   ]
  },
  {
   "cell_type": "code",
   "execution_count": null,
   "metadata": {},
   "outputs": [],
   "source": []
  },
  {
   "cell_type": "markdown",
   "metadata": {},
   "source": [
    "Nebenrechnung für "
   ]
  },
  {
   "cell_type": "markdown",
   "metadata": {},
   "source": [
    "`begin fluchtzeit1`"
   ]
  },
  {
   "cell_type": "code",
   "execution_count": 14,
   "metadata": {},
   "outputs": [
    {
     "name": "stdout",
     "output_type": "stream",
     "text": [
      "Eq(x1(t), -1/(t - 1/a))\n"
     ]
    }
   ],
   "source": [
    "import sympy as sp\n",
    "a, t = sp.symbols(\"a, t\")\n",
    "\n",
    "x1_t = sp.Function(\"x1\")(t)\n",
    "initial_conditions = {x1_t.subs(t, 0): a}\n",
    "\n",
    "print(sp.dsolve(x1_t.diff(t) - x1_t**2, x1_t, ics=initial_conditions))\n",
    "\n"
   ]
  },
  {
   "cell_type": "markdown",
   "metadata": {},
   "source": [
    "`end fluchtzeit1`"
   ]
  },
  {
   "cell_type": "code",
   "execution_count": 15,
   "metadata": {},
   "outputs": [],
   "source": [
    "import copy"
   ]
  },
  {
   "cell_type": "code",
   "execution_count": 16,
   "metadata": {},
   "outputs": [],
   "source": [
    "# Bisherige Plot-Einstellungen speichern (echte Kopie anlegen)\n",
    "orig_plt_rcParams = copy.deepcopy(plt.rcParams)\n",
    "pass "
   ]
  },
  {
   "cell_type": "code",
   "execution_count": 17,
   "metadata": {},
   "outputs": [],
   "source": [
    "# Plot-Einstellungen anpassen für zwei Grafiken nebeneinander\n",
    "plt.rcParams['font.size'] = 18\n",
    "\n",
    "plt.rcParams['figure.subplot.bottom'] = .265\n",
    "plt.rcParams['figure.subplot.left'] = .09\n",
    "plt.rcParams['figure.subplot.top'] = .995\n",
    "plt.rcParams['figure.subplot.right'] = .995"
   ]
  },
  {
   "cell_type": "markdown",
   "metadata": {},
   "source": [
    "`begin stabilitaet1`"
   ]
  },
  {
   "cell_type": "code",
   "execution_count": 18,
   "metadata": {},
   "outputs": [
    {
     "name": "stdout",
     "output_type": "stream",
     "text": [
      "Siehe Abbildung §\\ref{fig_stabilitaet1}§\n"
     ]
    },
    {
     "data": {
      "image/png": "[encoded data removed]",
      "text/plain": [
       "<Figure size 864x216 with 2 Axes>"
      ]
     },
     "metadata": {
      "needs_background": "light"
     },
     "output_type": "display_data"
    }
   ],
   "source": [
    "def rhs2(t, x, d):\n",
    "    \"\"\"\n",
    "    RHS-Funktion für gedämpftes Pendel.\n",
    "    Dämpfung d ist jetzt zusätzlicher Parameter\n",
    "    \"\"\"\n",
    "    g = 9.81\n",
    "    l = 0.1\n",
    "\n",
    "    dx1 = x[1]\n",
    "    dx2 = -g/l*sin(x[0]) - d*x[1]\n",
    "    dx = np.array([dx1, dx2])\n",
    "    return dx\n",
    "\n",
    "delta_x1 = 0.01*np.pi\n",
    "\n",
    "x_aw_0 = [delta_x1, 0]\n",
    "x_aw_1 = [np.pi + delta_x1, 0]\n",
    "tt = np.linspace(0, 5, 5000)\n",
    "res0 = solve_ivp(rhs2, (0, 5), x_aw_0, t_eval=tt, args=(0.8,))\n",
    "res1 = solve_ivp(rhs2, (0, 5), x_aw_1, t_eval=tt, args=(0.8,))\n",
    "\n",
    "fig, (ax1, ax2) = plt.subplots(1, 2, figsize=(12, 3));\n",
    "ax1.plot(res.t, res0.y[0, :], label=r\"$\\varphi$\")\n",
    "ax2.plot(res.t, res1.y[0, :], label=r\"$\\varphi$\")\n",
    "# #!\n",
    "ax1.set_xlabel(\"$t$ in s\") #!\n",
    "ax1.set_ylabel(r\"$\\varphi$ in ${}^\\circ$\") #!\n",
    "ax2.set_xlabel(\"$t$ in s\") #!\n",
    "ax2.set_ylabel(r\"$\\varphi$ in ${}^\\circ$\") #!\n",
    "# #!\n",
    "show_book(\"stabilitaet1\") #!"
   ]
  },
  {
   "cell_type": "markdown",
   "metadata": {},
   "source": [
    "`end stabilitaet1`"
   ]
  },
  {
   "cell_type": "code",
   "execution_count": 19,
   "metadata": {},
   "outputs": [],
   "source": [
    "plt.rcParams['figure.subplot.hspace'] = .3 # horizontalen Abstand anpassen"
   ]
  },
  {
   "cell_type": "markdown",
   "metadata": {},
   "source": [
    "`begin stabilitaet2`"
   ]
  },
  {
   "cell_type": "code",
   "execution_count": 20,
   "metadata": {},
   "outputs": [
    {
     "name": "stdout",
     "output_type": "stream",
     "text": [
      "Siehe Abbildung §\\ref{fig_stabilitaet2}§\n"
     ]
    },
    {
     "data": {
      "image/png": "[encoded data removed]",
      "text/plain": [
       "<Figure size 864x504 with 4 Axes>"
      ]
     },
     "metadata": {
      "needs_background": "light"
     },
     "output_type": "display_data"
    }
   ],
   "source": [
    "res0 = solve_ivp(rhs2, (0, 5), x_aw_0, t_eval=tt, args=(-0.8,))\n",
    "res1 = solve_ivp(rhs2, (0, 5), x_aw_1, t_eval=tt, args=(-0.8,))\n",
    "res2 = solve_ivp(rhs2, (0, 5), x_aw_0, t_eval=tt, args=(-8,))\n",
    "res3 = solve_ivp(rhs2, (0, 5), x_aw_1, t_eval=tt, args=(-8,))\n",
    "\n",
    "# Plotten\n",
    "# ...\n",
    "fig, ((ax0, ax1), (ax2, ax3)) = plt.subplots(2, 2, figsize=(12, 7)); #!\n",
    "ax0.plot(res.t, res0.y[0, :], label=r\"$\\varphi$\") #!\n",
    "ax1.plot(res.t, res1.y[0, :], label=r\"$\\varphi$ (mit $d=-0.8$)\")  #!\n",
    "ax2.plot(res.t, res2.y[0, :], color=\"#f80\", label=r\"$\\varphi$\")  #!\n",
    "ax3.plot(res.t, res3.y[0, :], color=\"#f80\", label=r\"$\\varphi$ (mit $d=-8$)\")  #!\n",
    "ax0.set_ylabel(r\"$\\varphi$\") #!\n",
    "ax1.set_ylabel(r\"$\\varphi$\") #!\n",
    "ax2.set_xlabel(\"$t$ in s\") #!\n",
    "ax2.set_ylabel(r\"$\\varphi$\") #!\n",
    "ax3.set_xlabel(\"$t$ in s\") #!\n",
    "ax3.set_ylabel(r\"$\\varphi$\") #!\n",
    "ax1.legend() #!\n",
    "ax3.legend() #!\n",
    "show_book(\"stabilitaet2\") #!"
   ]
  },
  {
   "cell_type": "markdown",
   "metadata": {},
   "source": [
    "`end stabilitaet2`"
   ]
  },
  {
   "cell_type": "markdown",
   "metadata": {},
   "source": [
    "`begin stabilitaet3`"
   ]
  },
  {
   "cell_type": "code",
   "execution_count": 21,
   "metadata": {},
   "outputs": [
    {
     "data": {
      "text/plain": [
       "3.453009529927373e+17"
      ]
     },
     "execution_count": 21,
     "metadata": {},
     "output_type": "execute_result"
    }
   ],
   "source": [
    "# Pendelgeschwindigkeit nach 5s in rad/s\n",
    "omega = res3.y[1, -1]"
   ]
  },
  {
   "cell_type": "code",
   "execution_count": 22,
   "metadata": {},
   "outputs": [
    {
     "data": {
      "text/plain": [
       "11510031.766424576"
      ]
     },
     "execution_count": 22,
     "metadata": {},
     "output_type": "execute_result"
    }
   ],
   "source": [
    "# Umfangsgeschwindigkeit (bei l=0.1m)\n",
    "# in Relation zur Lichtgeschwindigkeit\n",
    "c = 3e9\n",
    "omega * 0.1 / c"
   ]
  },
  {
   "cell_type": "markdown",
   "metadata": {},
   "source": [
    "`end stabilitaet3`"
   ]
  },
  {
   "cell_type": "code",
   "execution_count": 23,
   "metadata": {},
   "outputs": [
    {
     "name": "stdout",
     "output_type": "stream",
     "text": [
      "\n",
      "    Compute the matrix exponential using Pade approximation.\n",
      "\n",
      "    Parameters\n",
      "    ----------\n",
      "    A : (N, N) array_like or sparse matrix\n",
      "        Matrix to be exponentiated.\n",
      "\n",
      "    Returns\n",
      "    -------\n",
      "    expm : (N, N) ndarray\n",
      "        Matrix exponential of `A`.\n",
      "\n",
      "    References\n",
      "    ----------\n",
      "    .. [1] Awad H. Al-Mohy and Nicholas J. Higham (2009)\n",
      "           \"A New Scaling and Squaring Algorithm for the Matrix Exponential.\"\n",
      "           SIAM Journal on Matrix Analysis and Applications.\n",
      "           31 (3). pp. 970-989. ISSN 1095-7162\n",
      "\n",
      "    Examples\n",
      "    --------\n",
      "    >>> from scipy.linalg import expm, sinm, cosm\n",
      "\n",
      "    Matrix version of the formula exp(0) = 1:\n",
      "\n",
      "    >>> expm(np.zeros((2,2)))\n",
      "    array([[ 1.,  0.],\n",
      "           [ 0.,  1.]])\n",
      "\n",
      "    Euler's identity (exp(i*theta) = cos(theta) + i*sin(theta))\n",
      "    applied to a matrix:\n",
      "\n",
      "    >>> a = np.array([[1.0, 2.0], [-1.0, 3.0]])\n",
      "    >>> expm(1j*a)\n",
      "    array([[ 0.42645930+1.89217551j, -2.13721484-0.97811252j],\n",
      "           [ 1.06860742+0.48905626j, -1.71075555+0.91406299j]])\n",
      "    >>> cosm(a) + 1j*sinm(a)\n",
      "    array([[ 0.42645930+1.89217551j, -2.13721484-0.97811252j],\n",
      "           [ 1.06860742+0.48905626j, -1.71075555+0.91406299j]])\n",
      "\n",
      "    \n"
     ]
    }
   ],
   "source": [
    "# Matrix-Exponetialfunktion\n",
    "import scipy as sc\n",
    "print(sc.linalg.expm.__doc__)"
   ]
  },
  {
   "cell_type": "markdown",
   "metadata": {},
   "source": [
    "`begin stabilitaet4`"
   ]
  },
  {
   "cell_type": "code",
   "execution_count": 24,
   "metadata": {},
   "outputs": [],
   "source": [
    "x1, x2 = xx =  sp.symbols(\"x1, x2\")\n",
    "g, l, d = params = sp.symbols(\"g, l, d\")"
   ]
  },
  {
   "cell_type": "code",
   "execution_count": 25,
   "metadata": {},
   "outputs": [
    {
     "data": {
      "text/latex": [
       "$\\displaystyle \\left[\\begin{matrix}x_{2}\\\\- d x_{2} - \\frac{g \\sin{\\left(x_{1} \\right)}}{l}\\end{matrix}\\right]$"
      ],
      "text/plain": [
       "Matrix([\n",
       "[                 x2],\n",
       "[-d*x2 - g*sin(x1)/l]])"
      ]
     },
     "execution_count": 25,
     "metadata": {},
     "output_type": "execute_result"
    }
   ],
   "source": [
    "# g und l schon numerisch vorgeben (mit 9.81 ≈ 10)\n",
    "#g, l = 10, 0.1\n",
    "\n",
    "f_symb = sp.Matrix([x2, -g/l*sp.sin(x1) - d*x2])"
   ]
  },
  {
   "cell_type": "code",
   "execution_count": 26,
   "metadata": {},
   "outputs": [
    {
     "data": {
      "text/latex": [
       "$\\displaystyle \\left[\\begin{matrix}0 & 1\\\\- \\frac{g}{l} & - d\\end{matrix}\\right]$"
      ],
      "text/plain": [
       "Matrix([\n",
       "[   0,  1],\n",
       "[-g/l, -d]])"
      ]
     },
     "execution_count": 26,
     "metadata": {},
     "output_type": "execute_result"
    }
   ],
   "source": [
    "# Jacobi-Matrizen für die beiden Ruhelagen bestimmen:\n",
    "# untere RL: x1 = 0\n",
    "A0 = f_symb.jacobian(xx).subs(x1, 0)"
   ]
  },
  {
   "cell_type": "code",
   "execution_count": 27,
   "metadata": {},
   "outputs": [
    {
     "data": {
      "text/latex": [
       "$\\displaystyle \\left[\\begin{matrix}0 & 1\\\\\\frac{g}{l} & - d\\end{matrix}\\right]$"
      ],
      "text/plain": [
       "Matrix([\n",
       "[  0,  1],\n",
       "[g/l, -d]])"
      ]
     },
     "execution_count": 27,
     "metadata": {},
     "output_type": "execute_result"
    }
   ],
   "source": [
    "# obere RL: x1 = pi\n",
    "A1 = f_symb.jacobian(xx).subs(x1, sp.pi)"
   ]
  },
  {
   "cell_type": "code",
   "execution_count": 28,
   "metadata": {},
   "outputs": [
    {
     "data": {
      "text/plain": [
       "{-d/2 - sqrt(l*(d**2*l - 4*g))/(2*l): 1,\n",
       " -d/2 + sqrt(l*(d**2*l - 4*g))/(2*l): 1}"
      ]
     },
     "execution_count": 28,
     "metadata": {},
     "output_type": "execute_result"
    }
   ],
   "source": [
    "# Eigenwerte (jeweils mit Vielfachheit 1)\n",
    "A0.eigenvals()"
   ]
  },
  {
   "cell_type": "code",
   "execution_count": 29,
   "metadata": {},
   "outputs": [
    {
     "data": {
      "text/plain": [
       "{-d/2 - sqrt(l*(d**2*l + 4*g))/(2*l): 1,\n",
       " -d/2 + sqrt(l*(d**2*l + 4*g))/(2*l): 1}"
      ]
     },
     "execution_count": 29,
     "metadata": {},
     "output_type": "execute_result"
    }
   ],
   "source": [
    "A1.eigenvals()"
   ]
  },
  {
   "cell_type": "markdown",
   "metadata": {},
   "source": [
    "`end stabilitaet4`"
   ]
  },
  {
   "cell_type": "code",
   "execution_count": 30,
   "metadata": {},
   "outputs": [],
   "source": [
    "# Originale Plot-Einstellungen reaktivieren\n",
    "plt.rcParams.update(orig_plt_rcParams)\n",
    "pass "
   ]
  },
  {
   "cell_type": "markdown",
   "metadata": {},
   "source": [
    "## Regelungstechnik (Beispiel: Tempomat)"
   ]
  },
  {
   "cell_type": "markdown",
   "metadata": {},
   "source": [
    "`begin tempomat1`"
   ]
  },
  {
   "cell_type": "code",
   "execution_count": 31,
   "metadata": {},
   "outputs": [],
   "source": [
    "m = 1000 # Masse [kg] \n",
    "cw = 1 # Koeff. Luftwiderstand\n",
    "\n",
    "FH = 0 # Hangabtriebskraft\n",
    "\n",
    "v_soll = 30 # Sollgeschw. [m/s]\n",
    "Kp = 100 # Reglerverstärkung\n",
    "\n",
    "def controller_p(w, x):\n",
    "    \"\"\"\n",
    "    :param w:    Sollwert\n",
    "    :param x:    Zustandsvektor (array)\n",
    "    \"\"\"\n",
    "    e = w - x[0]  # Regeldifferenz \n",
    "    \n",
    "    return Kp*e # einfacher Proportionalregler\n",
    "\n",
    "def rhs_vehicle(t, x):\n",
    "    \"Rechte Seite der System-DGL\"\n",
    "    \n",
    "    u = controller_p(v_soll, x)\n",
    "    \n",
    "    xdot1 = 1/m * (u + FH - cw*x[0]**2)\n",
    "    return np.array([xdot1])"
   ]
  },
  {
   "cell_type": "markdown",
   "metadata": {},
   "source": [
    "`end tempomat1`"
   ]
  },
  {
   "cell_type": "code",
   "execution_count": 32,
   "metadata": {},
   "outputs": [],
   "source": [
    "from scipy.integrate import solve_ivp"
   ]
  },
  {
   "cell_type": "code",
   "execution_count": null,
   "metadata": {},
   "outputs": [],
   "source": []
  },
  {
   "cell_type": "markdown",
   "metadata": {},
   "source": [
    "`begin tempomat2`"
   ]
  },
  {
   "cell_type": "code",
   "execution_count": 33,
   "metadata": {},
   "outputs": [
    {
     "name": "stdout",
     "output_type": "stream",
     "text": [
      "Siehe Abbildung §\\ref{fig_tempomat_result1}§\n"
     ]
    },
    {
     "data": {
      "image/png": "[encoded data removed]",
      "text/plain": [
       "<Figure size 432x288 with 1 Axes>"
      ]
     },
     "metadata": {
      "needs_background": "light"
     },
     "output_type": "display_data"
    }
   ],
   "source": [
    "# Vorbereitung\n",
    "x0 = np.array([0])  # Anfangszustand (Stillstand)\n",
    "Tend = 60\n",
    "tt = np.linspace(0, Tend, 100)\n",
    "\n",
    "# Simulation\n",
    "res = solve_ivp(rhs_vehicle, (0, Tend), x0, t_eval=tt)\n",
    "\n",
    "# Visualisierung\n",
    "plt.plot(res.t, res.t*0 + v_soll, \"k--\")\n",
    "plt.plot(res.t, res.y.T)\n",
    "plt.xlabel(r\"$t$ in s\") #!\n",
    "plt.ylabel(r\"$v$ in $\\frac{\\mathrm{m}}{\\mathrm{s}}$\") #!\n",
    "show_book(\"tempomat_result1\") #!"
   ]
  },
  {
   "cell_type": "markdown",
   "metadata": {},
   "source": [
    "`end tempomat2`"
   ]
  },
  {
   "cell_type": "code",
   "execution_count": 34,
   "metadata": {},
   "outputs": [
    {
     "data": {
      "text/plain": [
       "24.156995227699134"
      ]
     },
     "execution_count": 34,
     "metadata": {},
     "output_type": "execute_result"
    }
   ],
   "source": [
    "# Endwert\n",
    "res.y[0, -1]"
   ]
  },
  {
   "cell_type": "markdown",
   "metadata": {},
   "source": [
    "`begin tempomat3`"
   ]
  },
  {
   "cell_type": "code",
   "execution_count": 35,
   "metadata": {},
   "outputs": [
    {
     "name": "stdout",
     "output_type": "stream",
     "text": [
      "Siehe Abbildung §\\ref{fig_tempomat_result2}§\n"
     ]
    },
    {
     "data": {
      "image/png": "[encoded data removed]",
      "text/plain": [
       "<Figure size 432x288 with 1 Axes>"
      ]
     },
     "metadata": {
      "needs_background": "light"
     },
     "output_type": "display_data"
    }
   ],
   "source": [
    "Kp = 300\n",
    "\n",
    "# Simulieren und Plotten ...\n",
    "res = solve_ivp(rhs_vehicle, (0, Tend), x0, t_eval=tt) #!\n",
    "# #!\n",
    "plt.plot(res.t, res.t*0 + v_soll, \"k--\") #!\n",
    "plt.plot(res.t, res.y.T) #!\n",
    "plt.xlabel(r\"$t$ in s\") #!\n",
    "plt.ylabel(r\"$v$ in $\\frac{\\mathrm{m}}{\\mathrm{s}}$\") #!\n",
    "show_book(\"tempomat_result2\") #!"
   ]
  },
  {
   "cell_type": "markdown",
   "metadata": {},
   "source": [
    "`end tempomat3`"
   ]
  },
  {
   "cell_type": "markdown",
   "metadata": {},
   "source": [
    "`begin tempomat4`"
   ]
  },
  {
   "cell_type": "code",
   "execution_count": 36,
   "metadata": {},
   "outputs": [
    {
     "name": "stdout",
     "output_type": "stream",
     "text": [
      "Siehe Abbildung §\\ref{fig_tempomat_result3}§\n"
     ]
    },
    {
     "data": {
      "image/png": "[encoded data removed]",
      "text/plain": [
       "<Figure size 432x288 with 1 Axes>"
      ]
     },
     "metadata": {
      "needs_background": "light"
     },
     "output_type": "display_data"
    }
   ],
   "source": [
    "Kp = 200\n",
    "Ki = 10\n",
    "\n",
    "def controller_pi(w, x):\n",
    "    \"\"\"\n",
    "    :param w:    Sollwert\n",
    "    :param x:    Zustandsvektor (array)\n",
    "    \"\"\"\n",
    "    e = w - x[0]  # Regeldifferenz \n",
    "    e_int = x[1]  # integrierte Regeldifferenz\n",
    "    \n",
    "    u = Kp*e + Ki*e_int # PI-Regler\n",
    "    \n",
    "    # u und e zurückgeben\n",
    "    return u, e\n",
    "\n",
    "def rhs_vehicle2(t, x):\n",
    "    \"Rechte Seite der System-DGL (inkl. I-Anteil)\"\n",
    "    \n",
    "    u, e = controller_pi(v_soll, x)\n",
    "    \n",
    "    xdot1 = 1/m * (u + FH - cw*x[0]**2)\n",
    "    xdot2 = e\n",
    "    return np.array([xdot1, xdot2])\n",
    "\n",
    "# neuer Anfangszustand shape=(2,)\n",
    "x0 = np.array([0, 0])\n",
    "\n",
    "res = solve_ivp(rhs_vehicle2, (0, Tend), x0, t_eval=tt)\n",
    "\n",
    "plt.plot(res.t, res.t*0 + v_soll, \"k--\")\n",
    "plt.plot(res.t, res.y[0, :])\n",
    "plt.xlabel(r\"$t$ in s\") #!\n",
    "plt.ylabel(r\"$v$ in $\\frac{\\mathrm{m}}{\\mathrm{s}}$\") #!\n",
    "show_book(\"tempomat_result3\") #!"
   ]
  },
  {
   "cell_type": "markdown",
   "metadata": {},
   "source": [
    "`end tempomat4`"
   ]
  },
  {
   "cell_type": "markdown",
   "metadata": {},
   "source": [
    "`begin tempomat5`"
   ]
  },
  {
   "cell_type": "code",
   "execution_count": 37,
   "metadata": {},
   "outputs": [],
   "source": [
    "def rhs_vehicle3(t, x):\n",
    "    \"System-DGL-rhs (inkl. I-Anteil und Störsprung)\"\n",
    "    \n",
    "    u, e = controller_pi(v_soll, x)\n",
    "    \n",
    "    # FH ist globale Variable (extern vorgegebener Wert)\n",
    "    FH_local = FH \n",
    "    \n",
    "    if t > 20:\n",
    "        FH_local = -500\n",
    "    \n",
    "    xdot1 = 1/m * (u + FH_local - cw*x[0]**2)\n",
    "    xdot2 = e\n",
    "    return np.array([xdot1, xdot2])"
   ]
  },
  {
   "cell_type": "markdown",
   "metadata": {},
   "source": [
    "`end tempomat5`"
   ]
  },
  {
   "cell_type": "markdown",
   "metadata": {},
   "source": [
    "`begin tempomat6`"
   ]
  },
  {
   "cell_type": "code",
   "execution_count": 38,
   "metadata": {},
   "outputs": [
    {
     "data": {
      "text/plain": [
       "array([30., 90.])"
      ]
     },
     "execution_count": 38,
     "metadata": {},
     "output_type": "execute_result"
    }
   ],
   "source": [
    "# stationärer Wert für den I-Anteil\n",
    "x2_stat = v_soll**2/Ki\n",
    "# stationärer Anfangszustand für FH=0\n",
    "x0 = np.array([v_soll, x2_stat])"
   ]
  },
  {
   "cell_type": "markdown",
   "metadata": {},
   "source": [
    "`end tempomat6`"
   ]
  },
  {
   "cell_type": "markdown",
   "metadata": {},
   "source": [
    "`begin tempomat7`"
   ]
  },
  {
   "cell_type": "code",
   "execution_count": 39,
   "metadata": {},
   "outputs": [
    {
     "name": "stdout",
     "output_type": "stream",
     "text": [
      "Siehe Abbildung §\\ref{fig_tempomat_result4}§\n"
     ]
    },
    {
     "data": {
      "image/png": "[encoded data removed]",
      "text/plain": [
       "<Figure size 432x288 with 1 Axes>"
      ]
     },
     "metadata": {
      "needs_background": "light"
     },
     "output_type": "display_data"
    }
   ],
   "source": [
    "# Durchführung der Simulation\n",
    "res = solve_ivp(rhs_vehicle3, (0, Tend*2), x0, t_eval=tt*2, max_step=0.1)\n",
    "\n",
    "plt.plot(res.t, res.t*0 + v_soll, \"k--\")\n",
    "plt.plot(res.t, res.y[0, :])\n",
    "plt.xlabel(r\"$t$ in s\") #!\n",
    "plt.ylabel(r\"$v$ in $\\frac{\\mathrm{m}}{\\mathrm{s}}$\") #!\n",
    "show_book(\"tempomat_result4\") #!"
   ]
  },
  {
   "cell_type": "markdown",
   "metadata": {},
   "source": [
    "`end tempomat7`"
   ]
  }
 ],
 "metadata": {
  "kernelspec": {
   "display_name": "Python 3",
   "language": "python",
   "name": "python3"
  },
  "language_info": {
   "codemirror_mode": {
    "name": "ipython",
    "version": 3
   },
   "file_extension": ".py",
   "mimetype": "text/x-python",
   "name": "python",
   "nbconvert_exporter": "python",
   "pygments_lexer": "ipython3",
   "version": "3.8.6"
  }
 },
 "nbformat": 4,
 "nbformat_minor": 2
}
