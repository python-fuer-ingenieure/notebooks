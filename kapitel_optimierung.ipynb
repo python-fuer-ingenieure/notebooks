{
 "cells": [
  {
   "cell_type": "code",
   "execution_count": 1,
   "metadata": {},
   "outputs": [],
   "source": [
    "# sorgt dafür, dass, wenn die letzte Zeile eine Zuweisung ist, deren Ergebnis auch ausgegeben wird\n",
    "%config InteractiveShell.ast_node_interactivity='last_expr_or_assign'\n"
   ]
  },
  {
   "cell_type": "code",
   "execution_count": 2,
   "metadata": {},
   "outputs": [],
   "source": [
    "import matplotlib.pyplot as plt\n",
    "import matplotlib\n",
    "import numpy as np\n",
    "\n",
    "def show_book(figname, saveandshow=True):\n",
    "    \"\"\"\n",
    "    Diese Funktion dient dazu Abbildungen abzuspeichern und den Name der Abbildung\n",
    "    mit in den Quelltextschnipsel einzufügen\n",
    "    \"\"\"\n",
    "    print(r\"Siehe Abbildung §\\ref{fig_XXX}§\".replace(\"XXX\", figname))\n",
    "    if saveandshow:\n",
    "        plt.savefig(f\"{figname}_snip.pdf\")\n",
    "        plt.show()\n",
    "    \n",
    "plt.rcParams['text.usetex'] = True\n",
    "plt.rcParams['font.size'] = 14\n",
    "plt.rcParams['legend.fontsize'] = 18\n",
    "\n",
    "\n",
    "plt.rcParams['figure.subplot.left'] = .13\n",
    "\n",
    "import copy\n",
    "\n",
    "# Bisherige Plot-Einstellungen speichern (echte Kopie anlegen)\n",
    "orig_plt_rcParams = copy.deepcopy(plt.rcParams)\n",
    "\n",
    "# Plot-Einstellungen anpassen für zwei Grafiken nebeneinander\n",
    "plt.rcParams['font.size'] = 18\n",
    "\n",
    "plt.rcParams['figure.subplot.bottom'] = .265\n",
    "plt.rcParams['figure.subplot.left'] = .09\n",
    "plt.rcParams['figure.subplot.top'] = .995\n",
    "plt.rcParams['figure.subplot.right'] = .995\n",
    "\n",
    "plt.rcParams['figure.subplot.hspace'] = .3 # horizontalen Abstand anpassen\n",
    "\n",
    "\n",
    "double_plt_rcParams = copy.deepcopy(plt.rcParams)\n",
    "pass"
   ]
  },
  {
   "cell_type": "markdown",
   "metadata": {},
   "source": [
    "`begin mpp_intro1`"
   ]
  },
  {
   "cell_type": "code",
   "execution_count": 3,
   "metadata": {},
   "outputs": [
    {
     "name": "stdout",
     "output_type": "stream",
     "text": [
      "Siehe Abbildung §\\ref{fig_pv-modul-iup}§\n"
     ]
    },
    {
     "data": {
      "image/png": "[encoded data removed]",
      "text/plain": [
       "<Figure size 864x288 with 2 Axes>"
      ]
     },
     "metadata": {
      "needs_background": "light"
     },
     "output_type": "display_data"
    }
   ],
   "source": [
    "I0 = 20 # Kurzschlussstrom\n",
    "U0 = 30 # Leerlaufspannung\n",
    "\n",
    "def i_func(u):\n",
    "    return (2-np.exp((u/U0)**4*np.log(2)))*I0\n",
    "\n",
    "def p_func(u):\n",
    "    return u*i_func(u)\n",
    "\n",
    "uu = np.linspace(0, U0, 100)\n",
    "\n",
    "fig, (ax1, ax2) = plt.subplots(1, 2, figsize=(12, 4));\n",
    "ax1.plot(uu, i_func(uu), lw=3)\n",
    "ax2.plot(uu, p_func(uu), lw=3)\n",
    "pass #!\n",
    "ax1.set_xlabel(\"$U$ in V\") #!\n",
    "ax1.set_ylabel(\"$I$ in A\") #!\n",
    "pass #!\n",
    "ax2.set_xlabel(\"$U$ in V\") #!\n",
    "ax2.set_ylabel(\"$P$ in W\") #!\n",
    "pass #!\n",
    "du1 = 15 #!\n",
    "rect = plt.Rectangle((0, 0), du1, i_func(du1), facecolor=\"black\", alpha=0.1)#!\n",
    "ax1.add_patch(rect) #!\n",
    "ax1.text(du1/2, i_func(du1)/2, \"$P_1$\") #!\n",
    "##!\n",
    "du2 = 28 #!\n",
    "rect = plt.Rectangle((0, 0), du2, i_func(du2), facecolor=\"black\", alpha=0.1)#!\n",
    "ax1.add_patch(rect) #!\n",
    "ax1.text(du2*0.7, i_func(du2)/2, \"$P_2$\") #!\n",
    "pass #!\n",
    "ax2.plot([du1, du1], [0, p_func(du1)], color=\"0.7\") #!\n",
    "ax2.plot([du2, du2], [0, p_func(du2)], color=\"0.7\") #!\n",
    "ax2.text(du1-3, p_func(du1), \"$P_1$\") #!\n",
    "ax2.text(du2+1, p_func(du2), \"$P_2$\") #!\n",
    "#! plt.show()\n",
    "show_book(\"pv-modul-iup\") #!"
   ]
  },
  {
   "cell_type": "markdown",
   "metadata": {},
   "source": [
    "`end mpp_intro1`"
   ]
  },
  {
   "cell_type": "code",
   "execution_count": 4,
   "metadata": {},
   "outputs": [],
   "source": [
    "plt.rcParams.update(orig_plt_rcParams)"
   ]
  },
  {
   "cell_type": "code",
   "execution_count": 5,
   "metadata": {},
   "outputs": [
    {
     "data": {
      "text/plain": [
       "2.8125"
      ]
     },
     "execution_count": 5,
     "metadata": {},
     "output_type": "execute_result"
    }
   ],
   "source": [
    "9/8*2.5"
   ]
  },
  {
   "cell_type": "code",
   "execution_count": 6,
   "metadata": {},
   "outputs": [
    {
     "data": {
      "text/plain": [
       "0.351459803514598"
      ]
     },
     "execution_count": 6,
     "metadata": {},
     "output_type": "execute_result"
    }
   ],
   "source": [
    "# 72.27pt=1in = 2.54cm\n",
    "\n",
    "pt_in_mm = (72.27/25.4)**-1\n",
    "\n",
    "\n",
    "\n",
    "\n"
   ]
  },
  {
   "cell_type": "code",
   "execution_count": 7,
   "metadata": {},
   "outputs": [
    {
     "data": {
      "text/plain": [
       "101.49877957658778"
      ]
     },
     "execution_count": 7,
     "metadata": {},
     "output_type": "execute_result"
    }
   ],
   "source": [
    "412.56*pt_in_mm*0.7# *90/130"
   ]
  },
  {
   "cell_type": "markdown",
   "metadata": {},
   "source": [
    "`begin mpp_intro2`"
   ]
  },
  {
   "cell_type": "code",
   "execution_count": 8,
   "metadata": {},
   "outputs": [],
   "source": [
    "# Verfahrensparameter\n",
    "eps = 1e-10\n",
    "atol=1e-3\n",
    "gamma = 0.25\n",
    "\n",
    "def num_deriv(f, x):\n",
    "    \"Näherungsweise f' an der Stelle x berechnen\"\n",
    "    return (f(x+eps) - f(x))/eps\n",
    "\n",
    "def find_min(f, x0):\n",
    "    x = x0\n",
    "    while True:\n",
    "        \n",
    "        df = num_deriv(f, x)\n",
    "        x_new = x - gamma*df\n",
    "        \n",
    "        print(f\"x = {x:7.4f}, df = {df:8.4f}, f = {f(x):7.4f}\")\n",
    "        if abs(x_new - x) < atol:\n",
    "            return x_new\n",
    "\n",
    "        x = x_new"
   ]
  },
  {
   "cell_type": "markdown",
   "metadata": {},
   "source": [
    "`end mpp_intro2`"
   ]
  },
  {
   "cell_type": "markdown",
   "metadata": {},
   "source": [
    "`begin mpp_intro3`"
   ]
  },
  {
   "cell_type": "code",
   "execution_count": 9,
   "metadata": {},
   "outputs": [],
   "source": [
    "def neg_p_func(u):\n",
    "    # nur Vorzeichenumkehr (wegen Minimierung)\n",
    "    return -p_func(u)"
   ]
  },
  {
   "cell_type": "markdown",
   "metadata": {},
   "source": [
    "`end mpp_intro3`"
   ]
  },
  {
   "cell_type": "markdown",
   "metadata": {},
   "source": [
    "`begin mpp_intro4`"
   ]
  },
  {
   "cell_type": "code",
   "execution_count": 10,
   "metadata": {},
   "outputs": [
    {
     "name": "stdout",
     "output_type": "stream",
     "text": [
      "x = 10.0000, df = -19.1375, f = -198.2812\n",
      "x = 14.7844, df = -15.7576, f = -283.3480\n",
      "x = 18.7238, df =  -8.4344, f = -332.9440\n",
      "x = 20.8324, df =  -1.3540, f = -343.7802\n",
      "x = 21.1709, df =   0.0836, f = -343.9978\n",
      "x = 21.1500, df =  -0.0080, f = -343.9986\n",
      "x = 21.1520, df =   0.0011, f = -343.9986\n"
     ]
    },
    {
     "data": {
      "text/plain": [
       "21.15168402066047"
      ]
     },
     "execution_count": 10,
     "metadata": {},
     "output_type": "execute_result"
    }
   ],
   "source": [
    "U_opt = find_min(neg_p_func, 10)"
   ]
  },
  {
   "cell_type": "markdown",
   "metadata": {},
   "source": [
    "`end mpp_intro4`"
   ]
  },
  {
   "cell_type": "markdown",
   "metadata": {},
   "source": [
    "`begin mpp_intro5`"
   ]
  },
  {
   "cell_type": "code",
   "execution_count": 11,
   "metadata": {},
   "outputs": [
    {
     "data": {
      "text/plain": [
       "      fun: -343.9985630913154\n",
       " hess_inv: array([[0.22853756]])\n",
       "      jac: array([-3.81469727e-06])\n",
       "  message: 'Optimization terminated successfully.'\n",
       "     nfev: 20\n",
       "      nit: 7\n",
       "     njev: 10\n",
       "   status: 0\n",
       "  success: True\n",
       "        x: array([21.1517963])"
      ]
     },
     "execution_count": 11,
     "metadata": {},
     "output_type": "execute_result"
    }
   ],
   "source": [
    "from scipy.optimize import minimize\n",
    "\n",
    "res = minimize(neg_p_func, 10)"
   ]
  },
  {
   "cell_type": "code",
   "execution_count": 12,
   "metadata": {},
   "outputs": [
    {
     "data": {
      "text/plain": [
       "scipy.optimize.optimize.OptimizeResult"
      ]
     },
     "execution_count": 12,
     "metadata": {},
     "output_type": "execute_result"
    }
   ],
   "source": [
    "type(res)"
   ]
  },
  {
   "cell_type": "code",
   "execution_count": 13,
   "metadata": {},
   "outputs": [
    {
     "data": {
      "text/plain": [
       "array([21.1517963])"
      ]
     },
     "execution_count": 13,
     "metadata": {},
     "output_type": "execute_result"
    }
   ],
   "source": [
    "\n",
    "U_opt = res.x"
   ]
  },
  {
   "cell_type": "markdown",
   "metadata": {},
   "source": [
    "`end mpp_intro5`"
   ]
  },
  {
   "cell_type": "markdown",
   "metadata": {},
   "source": [
    "optimalen Widerstand berechnen"
   ]
  },
  {
   "cell_type": "markdown",
   "metadata": {},
   "source": [
    "`begin mpp_intro6`"
   ]
  },
  {
   "cell_type": "code",
   "execution_count": 14,
   "metadata": {},
   "outputs": [
    {
     "data": {
      "text/plain": [
       "array([1.30058243])"
      ]
     },
     "execution_count": 14,
     "metadata": {},
     "output_type": "execute_result"
    }
   ],
   "source": [
    "R_opt = U_opt / i_func(U_opt)"
   ]
  },
  {
   "cell_type": "code",
   "execution_count": 15,
   "metadata": {},
   "outputs": [
    {
     "data": {
      "text/plain": [
       "array([343.99856309])"
      ]
     },
     "execution_count": 15,
     "metadata": {},
     "output_type": "execute_result"
    }
   ],
   "source": [
    "\n",
    "P_opt = U_opt * i_func(U_opt)"
   ]
  },
  {
   "cell_type": "markdown",
   "metadata": {},
   "source": [
    "`end mpp_intro6`"
   ]
  },
  {
   "cell_type": "markdown",
   "metadata": {},
   "source": [
    "`begin mpp_fsolve1`"
   ]
  },
  {
   "cell_type": "code",
   "execution_count": 16,
   "metadata": {},
   "outputs": [
    {
     "data": {
      "text/plain": [
       "array([26.78635295])"
      ]
     },
     "execution_count": 16,
     "metadata": {},
     "output_type": "execute_result"
    }
   ],
   "source": [
    "def eqn_error(U, R):\n",
    "    e = i_func(U) - U/R\n",
    "    return e**2\n",
    "\n",
    "U_est = 1 # Startschätzung für U\n",
    "res = minimize(eqn_error, x0=U_est, args=(3,))\n",
    "U_sol = res.x"
   ]
  },
  {
   "cell_type": "markdown",
   "metadata": {},
   "source": [
    "`end mpp_fsolve1`"
   ]
  },
  {
   "cell_type": "markdown",
   "metadata": {},
   "source": [
    "`begin mpp_fsolve2`"
   ]
  },
  {
   "cell_type": "code",
   "execution_count": 17,
   "metadata": {},
   "outputs": [
    {
     "data": {
      "text/plain": [
       "array([343.99861763])"
      ]
     },
     "execution_count": 17,
     "metadata": {},
     "output_type": "execute_result"
    }
   ],
   "source": [
    "def p_of_r_func(R):\n",
    "    res = minimize(eqn_error, x0=U_est, args=(R,))\n",
    "    \n",
    "    # Gültigkeit der Lösungsfindung sicherstellen\n",
    "    assert res.fun < 1e-5 \n",
    "    U_sol = res.x\n",
    "    I_sol = U_sol/R\n",
    "    \n",
    "    # Berechne Leistung\n",
    "    return U_sol*I_sol\n",
    "\n",
    "# Konsistenzprüfung: P_opt nochmal berechnen\n",
    "p_of_r_func(R_opt)"
   ]
  },
  {
   "cell_type": "markdown",
   "metadata": {},
   "source": [
    "`end mpp_fsolve2`"
   ]
  },
  {
   "cell_type": "markdown",
   "metadata": {},
   "source": [
    "`begin mpp_fsolve3`"
   ]
  },
  {
   "cell_type": "code",
   "execution_count": 18,
   "metadata": {},
   "outputs": [
    {
     "data": {
      "text/plain": [
       "array([1.30058776])"
      ]
     },
     "execution_count": 18,
     "metadata": {},
     "output_type": "execute_result"
    }
   ],
   "source": [
    "def neg_p_of_r_func(R):\n",
    "    # nur Vorzeichenumkehr (wegen Minimierung)\n",
    "    return -p_of_r_func(R)\n",
    "\n",
    "R_est = 200 # Startschätzung für R\n",
    "res = minimize(neg_p_of_r_func, x0=R_est, method=\"Powell\")\n",
    "assert res.success\n",
    "R_opt_direct = res.x"
   ]
  },
  {
   "cell_type": "markdown",
   "metadata": {},
   "source": [
    "`end mpp_fsolve3`"
   ]
  },
  {
   "cell_type": "markdown",
   "metadata": {},
   "source": [
    "`begin local_minima1`"
   ]
  },
  {
   "cell_type": "code",
   "execution_count": 19,
   "metadata": {},
   "outputs": [],
   "source": [
    "def f(x):\n",
    "    return x**2 - 6*np.cos(3*x)"
   ]
  },
  {
   "cell_type": "markdown",
   "metadata": {},
   "source": [
    "`end local_minima1`"
   ]
  },
  {
   "cell_type": "code",
   "execution_count": 20,
   "metadata": {},
   "outputs": [
    {
     "data": {
      "text/plain": [
       "[<matplotlib.lines.Line2D at 0x7f3fb6e2aa90>]"
      ]
     },
     "execution_count": 20,
     "metadata": {},
     "output_type": "execute_result"
    },
    {
     "data": {
      "image/png": "[encoded data removed]",
      "text/plain": [
       "<Figure size 432x288 with 1 Axes>"
      ]
     },
     "metadata": {
      "needs_background": "light"
     },
     "output_type": "display_data"
    }
   ],
   "source": [
    "xx = np.linspace(-10, 10, 1000)\n",
    "plt.plot(xx, f(xx))"
   ]
  },
  {
   "cell_type": "markdown",
   "metadata": {},
   "source": [
    "`begin local_minima2`"
   ]
  },
  {
   "cell_type": "code",
   "execution_count": 21,
   "metadata": {},
   "outputs": [
    {
     "name": "stdout",
     "output_type": "stream",
     "text": [
      "Siehe Abbildung §\\ref{fig_lokale_minima}§\n"
     ]
    },
    {
     "data": {
      "image/png": "[encoded data removed]",
      "text/plain": [
       "<Figure size 432x288 with 1 Axes>"
      ]
     },
     "metadata": {
      "needs_background": "light"
     },
     "output_type": "display_data"
    }
   ],
   "source": [
    "xx = np.linspace(-10, 10, 1000)  # allgem. Auswertestellen\n",
    "xx_start = np.linspace(-9, 8, 9) # Startschätzungen\n",
    "yy_start = f(xx_start)\n",
    "\n",
    "plt.plot(xx, f(xx), lw=3, alpha=0.5, label=\"Zielfunktion\")\n",
    "plt.plot(xx_start, f(xx_start), \"o\", label=\"Startschätzungen\")\n",
    "\n",
    "xx_res = np.zeros_like(xx_start)\n",
    "for i, x_start in enumerate(xx_start):\n",
    "    xx_res[i] = minimize(f, x0=x_start).x\n",
    "\n",
    "plt.plot(xx_res, f(xx_res), \"v\", ms=8, label=\"lokale Minima\")\n",
    "plt.legend()\n",
    "show_book(\"lokale_minima\")"
   ]
  },
  {
   "cell_type": "markdown",
   "metadata": {},
   "source": [
    "`end local_minima2`"
   ]
  },
  {
   "cell_type": "markdown",
   "metadata": {},
   "source": [
    "`begin local_minima3`"
   ]
  },
  {
   "cell_type": "code",
   "execution_count": 22,
   "metadata": {},
   "outputs": [
    {
     "data": {
      "image/png": "[encoded data removed]",
      "text/plain": [
       "<Figure size 576x360 with 1 Axes>"
      ]
     },
     "metadata": {
      "needs_background": "light"
     },
     "output_type": "display_data"
    }
   ],
   "source": [
    "def f(xx):\n",
    "    # Gaußsche Glocke als Hüllkurve\n",
    "    hull = np.exp(-(xx[0]**2+ xx[1]**2))\n",
    "    return 0.1*xx[0]**2 - hull*\\\n",
    "           np.exp(-5*(np.sin(4*xx[0])**2 + np.sin(4*xx[1])**2))\n",
    "\n",
    "N = 2000\n",
    "xxN = np.linspace(-1, 1, N)\n",
    "yyN = np.linspace(-1, 1, N)\n",
    "\n",
    "XX, YY = np.meshgrid(xxN, yyN)\n",
    "ZZ = f((XX, YY))\n",
    "\n",
    "fig = plt.figure(figsize=(8, 5))\n",
    "ax1 = fig.add_subplot(111, projection='3d')\n",
    "ax1.plot_wireframe(XX, YY, ZZ,\n",
    "                   rstride=70, cstride=70, color=\"0.3\")\n",
    "plt.savefig(\"lokale_minima_2d_wireframe.pdf\") #!"
   ]
  },
  {
   "cell_type": "code",
   "execution_count": 23,
   "metadata": {},
   "outputs": [
    {
     "name": "stdout",
     "output_type": "stream",
     "text": [
      "Siehe Abbildung §\\ref{fig_lokale_minima_2d_contour}§\n"
     ]
    },
    {
     "data": {
      "image/png": "[encoded data removed]",
      "text/plain": [
       "<Figure size 432x288 with 2 Axes>"
      ]
     },
     "metadata": {
      "needs_background": "light"
     },
     "output_type": "display_data"
    }
   ],
   "source": [
    "\n",
    "# 2. Grafik\n",
    "plt.figure()\n",
    "plt.contourf(XX, YY, ZZ, 100, cmap=\"coolwarm\")\n",
    "plt.colorbar()\n",
    "show_book(\"lokale_minima_2d_contour\") #!"
   ]
  },
  {
   "cell_type": "markdown",
   "metadata": {},
   "source": [
    "`end local_minima3`"
   ]
  },
  {
   "cell_type": "markdown",
   "metadata": {},
   "source": [
    "`begin local_minima4`"
   ]
  },
  {
   "cell_type": "code",
   "execution_count": 24,
   "metadata": {},
   "outputs": [
    {
     "data": {
      "text/plain": [
       "(4, 4)"
      ]
     },
     "execution_count": 24,
     "metadata": {},
     "output_type": "execute_result"
    }
   ],
   "source": [
    "# Hintergrundbild: Farbkarte\n",
    "#! plt.contourf(XX, YY, ZZ, 100, cmap=\"coolwarm\")\n",
    "\n",
    "# Gitter mit Startwerten generieren\n",
    "M = 4\n",
    "uu = np.linspace(-.9, .9, M)\n",
    "vv = np.linspace(-.9, .85, M)\n",
    "UU, VV = np.meshgrid(uu, vv)\n",
    "UU.shape"
   ]
  },
  {
   "cell_type": "code",
   "execution_count": 25,
   "metadata": {},
   "outputs": [
    {
     "data": {
      "text/plain": [
       "(4, 4)"
      ]
     },
     "execution_count": 25,
     "metadata": {},
     "output_type": "execute_result"
    }
   ],
   "source": [
    "VV.shape"
   ]
  },
  {
   "cell_type": "code",
   "execution_count": 26,
   "metadata": {},
   "outputs": [
    {
     "data": {
      "text/plain": [
       "(16, 2)"
      ]
     },
     "execution_count": 26,
     "metadata": {},
     "output_type": "execute_result"
    }
   ],
   "source": [
    "# Gitterpunkte plotten\n",
    "#! plt.scatter(UU, VV, zorder=3)\n",
    "\n",
    "# zusammengehörende Paare erzeugen\n",
    "uv = np.column_stack((UU.flatten(), VV.flatten()))\n",
    "uv.shape"
   ]
  },
  {
   "cell_type": "code",
   "execution_count": 27,
   "metadata": {},
   "outputs": [
    {
     "name": "stdout",
     "output_type": "stream",
     "text": [
      "Siehe Abbildung §\\ref{fig_lokale_minima_2d_grid_results}§\n"
     ]
    },
    {
     "data": {
      "image/png": "[encoded data removed]",
      "text/plain": [
       "<Figure size 432x288 with 1 Axes>"
      ]
     },
     "metadata": {
      "needs_background": "light"
     },
     "output_type": "display_data"
    }
   ],
   "source": [
    "plt.contourf(XX, YY, ZZ, 100, cmap=\"coolwarm\") #!\n",
    "plt.scatter(UU, VV, zorder=3) #!\n",
    "\n",
    "# Schleife: Minimierung mit Startschätzung aus Gitter\n",
    "for i, uv0 in enumerate(uv):\n",
    "    res = minimize(f, x0=uv0).x\n",
    "    \n",
    "    # Startwert und Ergebnis als weiße Linie\n",
    "    ww = np.column_stack((uv0, res))\n",
    "    plt.plot(ww[0, :], ww[1, :], \"-\", color=\"#fff\")\n",
    "    \n",
    "    # Knotennummer eintragen\n",
    "    plt.text(ww[0, 0], ww[1, 0], str(i), color=\"#fff\")\n",
    "# #!\n",
    "# #!\n",
    "show_book(\"lokale_minima_2d_grid_results\") #!"
   ]
  },
  {
   "cell_type": "markdown",
   "metadata": {},
   "source": [
    "`end local_minima4`"
   ]
  },
  {
   "cell_type": "code",
   "execution_count": null,
   "metadata": {},
   "outputs": [],
   "source": []
  },
  {
   "cell_type": "markdown",
   "metadata": {},
   "source": [
    "`begin optimal_control1`"
   ]
  },
  {
   "cell_type": "code",
   "execution_count": 28,
   "metadata": {},
   "outputs": [
    {
     "ename": "NameError",
     "evalue": "name 'sp' is not defined",
     "output_type": "error",
     "traceback": [
      "\u001b[0;31m---------------------------------------------------------------------------\u001b[0m",
      "\u001b[0;31mNameError\u001b[0m                                 Traceback (most recent call last)",
      "\u001b[0;32m<ipython-input-28-d4beebd1502c>\u001b[0m in \u001b[0;36m<module>\u001b[0;34m\u001b[0m\n\u001b[0;32m----> 1\u001b[0;31m \u001b[0mxx0\u001b[0m \u001b[0;34m=\u001b[0m \u001b[0msp\u001b[0m\u001b[0;34m.\u001b[0m\u001b[0mMatrix\u001b[0m\u001b[0;34m(\u001b[0m\u001b[0;34m[\u001b[0m\u001b[0;36m0\u001b[0m\u001b[0;34m,\u001b[0m \u001b[0;36m0\u001b[0m\u001b[0;34m]\u001b[0m\u001b[0;34m)\u001b[0m \u001b[0;31m# Anfangszustand\u001b[0m\u001b[0;34m\u001b[0m\u001b[0;34m\u001b[0m\u001b[0m\n\u001b[0m\u001b[1;32m      2\u001b[0m \u001b[0mz_Ziel\u001b[0m \u001b[0;34m=\u001b[0m \u001b[0;36m5\u001b[0m \u001b[0;31m# gewünschte Endposition\u001b[0m\u001b[0;34m\u001b[0m\u001b[0;34m\u001b[0m\u001b[0m\n\u001b[1;32m      3\u001b[0m \u001b[0mT_end\u001b[0m \u001b[0;34m=\u001b[0m \u001b[0;36m10.0\u001b[0m\u001b[0;34m\u001b[0m\u001b[0;34m\u001b[0m\u001b[0m\n\u001b[1;32m      4\u001b[0m \u001b[0mN\u001b[0m \u001b[0;34m=\u001b[0m \u001b[0;36m30\u001b[0m\u001b[0;34m\u001b[0m\u001b[0;34m\u001b[0m\u001b[0m\n\u001b[1;32m      5\u001b[0m \u001b[0mtau\u001b[0m \u001b[0;34m=\u001b[0m \u001b[0mT_end\u001b[0m\u001b[0;34m/\u001b[0m\u001b[0mN\u001b[0m\u001b[0;34m\u001b[0m\u001b[0;34m\u001b[0m\u001b[0m\n",
      "\u001b[0;31mNameError\u001b[0m: name 'sp' is not defined"
     ]
    }
   ],
   "source": [
    "xx0 = sp.Matrix([0, 0]) # Anfangszustand\n",
    "z_Ziel = 5 # gewünschte Endposition\n",
    "T_end = 10.0\n",
    "N = 30\n",
    "tau = T_end/N\n",
    "\n",
    "import sympy as sp\n",
    "w = sp.Symbol(\"w\")\n",
    "aa = sp.symbols(f\"a1:{N+1}\")\n",
    "\n",
    "# Modellgleichungen\n",
    "def rhs(xx, a):\n",
    "    return sp.Matrix([xx[0] + xx[1]*tau,\n",
    "                      xx[1] + a*tau])"
   ]
  },
  {
   "cell_type": "markdown",
   "metadata": {},
   "source": [
    "`end optimal_control1`"
   ]
  },
  {
   "cell_type": "markdown",
   "metadata": {},
   "source": [
    "`begin optimal_control2`"
   ]
  },
  {
   "cell_type": "code",
   "execution_count": null,
   "metadata": {},
   "outputs": [],
   "source": [
    "XX = [] # Liste für Zwischenzustände\n",
    "xx_last = xx0  # \"letzter Zustand\"\n",
    "J = 0 # Kostenfunktional\n",
    "\n",
    "for a in aa:\n",
    "    # Folgezustand berechnen\n",
    "    xx_new = rhs(xx_last, a)\n",
    "    XX.append(xx_new)\n",
    "    \n",
    "    # Beitrag zum Kostenfunktional\n",
    "    J += (xx_new[0] - z_Ziel)**2 + a**2*w\n",
    "    \n",
    "    xx_last = xx_new"
   ]
  },
  {
   "cell_type": "markdown",
   "metadata": {},
   "source": [
    "`end optimal_control2`"
   ]
  },
  {
   "cell_type": "markdown",
   "metadata": {},
   "source": [
    "`begin optimal_control3`"
   ]
  },
  {
   "cell_type": "code",
   "execution_count": null,
   "metadata": {},
   "outputs": [],
   "source": [
    "# Liste -> 2 x N Matrix mit Zutänden\n",
    "XX = sp.Matrix.hstack(*XX)\n",
    "\n",
    "# Ausdrücke in Funktion umwandeln\n",
    "XX_func = sp.lambdify(aa, XX)  \n",
    "J_func_1 = sp.lambdify(aa+(w,), J)\n",
    "\n",
    "# Aufrufsignatur der Zielfunktion anpassen \n",
    "def J_func(aa_array, w_num):\n",
    "    return J_func_1(*aa_array, w_num)"
   ]
  },
  {
   "cell_type": "markdown",
   "metadata": {},
   "source": [
    "`end optimal_control3`"
   ]
  },
  {
   "cell_type": "code",
   "execution_count": null,
   "metadata": {},
   "outputs": [],
   "source": [
    "plt.rcParams.update(double_plt_rcParams)\n",
    "# plt.rcParams['figure.subplot.top'] = .87"
   ]
  },
  {
   "cell_type": "markdown",
   "metadata": {},
   "source": [
    "`begin optimal_control4`"
   ]
  },
  {
   "cell_type": "code",
   "execution_count": null,
   "metadata": {},
   "outputs": [],
   "source": [
    "tt = np.linspace(0, T_end, N)\n",
    "a_max_values = []\n",
    "# #!\n",
    "plt.figure(figsize=(12, 5)) #!\n",
    "ax1 = plt.subplot(2, 2, (1, 3)) #!\n",
    "ax2 = plt.subplot(2, 2, 2) #!\n",
    "ax3 = plt.subplot(2, 2, 4) #!\n",
    "# Erzeugung von ax1, ax2, ax3 ausgeblendet\n",
    "# #!\n",
    "for w_num in [1e-3, 0.01, 0.1, 1, 10]:\n",
    "    res = minimize(J_func, np.ones(N), args=(w_num,))\n",
    "    assert res.success\n",
    "    a_max_values.append(max(res.x))\n",
    "    ax1.plot(tt, res.x, 'o-', label=f\"$w={w_num}$\")\n",
    "\n",
    "    XX_num = XX_func(*res.x)\n",
    "\n",
    "    ax2.plot(tt, XX_num[1, :])\n",
    "    ax3.plot(tt, XX_num[0, :])\n",
    "\n",
    "# Für Erkennbarkeit kleiner Werte: nichtlineare Skalierung\n",
    "ax1.set_yscale(\"symlog\", linthresh=5)\n",
    "# #!\n",
    "ax1.legend(loc=\"upper right\", fontsize=14) #!\n",
    "# #!\n",
    "ax1.set_yticks([-10, -3, 0, 3, 10, 50]) #!\n",
    "ax1.yaxis.set_major_formatter(matplotlib.ticker.StrMethodFormatter(\"{x:3.0f}\")) #!\n",
    "#  #!\n",
    "ax1.set_ylabel(\"$a_k$ in m\\,s${}^{-2}$\") #!\n",
    "ax2.set_ylabel(r\"$\\dot z$ in m\\,s${}^{-1}$\") #!\n",
    "ax3.set_ylabel(\"$z$ in m\") #!\n",
    "ax3.set_yticks([0, 2.5, 5]) #!\n",
    "#  #!\n",
    "ax1.set_xlabel(\"$t$ in s\") #!\n",
    "ax3.set_xlabel(\"$t$ in s\") #!\n",
    "show_book(\"optimale_steuerung\") #!"
   ]
  },
  {
   "cell_type": "markdown",
   "metadata": {},
   "source": [
    "`end optimal_control4`"
   ]
  },
  {
   "cell_type": "markdown",
   "metadata": {},
   "source": [
    "`begin optimal_control5`"
   ]
  },
  {
   "cell_type": "code",
   "execution_count": null,
   "metadata": {},
   "outputs": [],
   "source": [
    "# Platzsparende Ausgabe der max-Werte #!\n",
    "orig_prec = np.get_printoptions() #!\n",
    "np.set_printoptions(precision=3) #!\n",
    "np.array(a_max_values)"
   ]
  },
  {
   "cell_type": "markdown",
   "metadata": {},
   "source": [
    "`end optimal_control5`"
   ]
  },
  {
   "cell_type": "code",
   "execution_count": null,
   "metadata": {},
   "outputs": [],
   "source": [
    "np.set_printoptions(precision=orig_prec)\n",
    "plt.rcParams.update(orig_plt_rcParams)"
   ]
  },
  {
   "cell_type": "code",
   "execution_count": null,
   "metadata": {},
   "outputs": [],
   "source": [
    "!pdfcrop lokale_minima_2d_wireframe.pdf\n",
    "!python3 ../../nbsnippets.py kapitel_optimierung.ipynb"
   ]
  },
  {
   "cell_type": "markdown",
   "metadata": {},
   "source": [
    "`begin optimale_steuerung_begrenzt1`"
   ]
  },
  {
   "cell_type": "code",
   "execution_count": null,
   "metadata": {},
   "outputs": [],
   "source": [
    "plt.figure(figsize=(12, 5)) #!\n",
    "ax1 = plt.subplot(2, 2, (1, 3)) #!\n",
    "ax2 = plt.subplot(2, 2, 2) #!\n",
    "ax3 = plt.subplot(2, 2, 4) #!\n",
    "# #!\n",
    "# Zum Vergleich: Minimierung ohne Grenzen\n",
    "res1 = minimize(J_func, np.zeros(N), args=(0.1,),)\n",
    "\n",
    "# Festlegung der Grenzen:\n",
    "bb = [(-1.5, 2)]*N\n",
    "# Minimierung mit Grenzen\n",
    "res2 = minimize(J_func, np.zeros(N), args=(0.1,), bounds=bb)\n",
    "assert res2.success\n",
    "assert res1.success\n",
    "XX_num1 = XX_func(*res1.x)\n",
    "XX_num2 = XX_func(*res2.x)\n",
    "\n",
    "# Plotten ... (ausgeblendet)\n",
    "ax1.plot(tt, res1.x, '.-', label=\"ohne Begrenzungen\") #!\n",
    "ax1.plot(tt, res2.x, '.-', label=\"mit Begrenzungen\") #!\n",
    "# #!\n",
    "ax2.plot(tt, XX_num1[1, :]) #!\n",
    "ax3.plot(tt, XX_num1[0, :]) #!\n",
    "ax2.plot(tt, XX_num2[1, :]) #!\n",
    "ax3.plot(tt, XX_num2[0, :]) #!\n",
    "# #!\n",
    "ax1.set_ylabel(\"$a_k$ in m\\,s${}^{-2}$\") #!\n",
    "ax2.set_ylabel(r\"$\\dot z$ in m\\,s${}^{-1}$\") #!\n",
    "ax3.set_ylabel(\"$z$ in m\") #!\n",
    "ax3.set_yticks([0, 2.5, 5]) #!\n",
    "#  #!\n",
    "ax1.set_xlabel(\"$t$ in s\") #!\n",
    "ax3.set_xlabel(\"$t$ in s\") #!\n",
    "ax1.legend(loc=\"upper right\") #!\n",
    "show_book(\"optimale_steuerung_mit_begrenzung\") #!"
   ]
  },
  {
   "cell_type": "markdown",
   "metadata": {},
   "source": [
    "`end optimale_steuerung_begrenzt1`"
   ]
  },
  {
   "cell_type": "code",
   "execution_count": null,
   "metadata": {},
   "outputs": [],
   "source": [
    "!pdfcrop lokale_minima_2d_wireframe.pdf\n",
    "!python3 ../../nbsnippets.py kapitel_optimierung.ipynb"
   ]
  },
  {
   "cell_type": "markdown",
   "metadata": {},
   "source": [
    "`begin optimale_steuerung_nb1`"
   ]
  },
  {
   "cell_type": "code",
   "execution_count": null,
   "metadata": {},
   "outputs": [],
   "source": [
    "vmax = 1.5\n",
    "\n",
    "def con_func(aa):\n",
    "        # Array mit Geschwindigkeiten\n",
    "        v = XX_func(*aa)[1, :]\n",
    "        \n",
    "        # Ungleichung in \"größer-0-Form\":\n",
    "        # v < vmax   -->  vmax - v > 0\n",
    "        return vmax - v\n",
    "\n",
    "con_list = [{\"type\": \"ineq\", \"fun\": con_func}]"
   ]
  },
  {
   "cell_type": "markdown",
   "metadata": {},
   "source": [
    "`end optimale_steuerung_nb1`"
   ]
  },
  {
   "cell_type": "markdown",
   "metadata": {},
   "source": [
    "`begin optimale_steuerung_nb2`"
   ]
  },
  {
   "cell_type": "code",
   "execution_count": null,
   "metadata": {},
   "outputs": [],
   "source": [
    "# Minimierung mit Grenzen und Nebenbedingungen\n",
    "res3 = minimize(J_func, np.zeros(N), args=(0.1,),\n",
    "                bounds=bb, constraints=con_list)\n",
    "assert res3.success\n",
    "# Plotten ausgeblendet ...\n",
    "fname = \"optimale_steuerung_mit_nb\" #!\n",
    "show_book(fname, saveandshow=False) #!"
   ]
  },
  {
   "cell_type": "markdown",
   "metadata": {},
   "source": [
    "`end optimale_steuerung_nb2`"
   ]
  },
  {
   "cell_type": "code",
   "execution_count": null,
   "metadata": {},
   "outputs": [],
   "source": [
    "plt.figure(figsize=(12, 5)) #!\n",
    "ax1 = plt.subplot(2, 2, (1, 3)) #!\n",
    "ax2 = plt.subplot(2, 2, 2) #!\n",
    "ax3 = plt.subplot(2, 2, 4) #!\n",
    "# #!\n",
    "# Zum Vergleich: Bisherige Ergebnisse #!\n",
    "res1 = minimize(J_func, np.zeros(N), args=(0.1,),) #!\n",
    "bb = [(-1.5, 2)]*N #!\n",
    "res2 = minimize(J_func, np.zeros(N), args=(0.1,), bounds=bb)\n",
    "assert res1.success #!\n",
    "assert res2.success #!\n",
    "# !\n",
    "\n",
    "\n",
    "XX_num1 = XX_func(*res1.x)\n",
    "XX_num2 = XX_func(*res2.x)\n",
    "XX_num3 = XX_func(*res3.x)\n",
    "\n",
    "# Plotten ... (ausgeblendet)\n",
    "ax1.plot(tt, res1.x, '.-', label=\"ohne Begrenzungen\") #!\n",
    "ax1.plot(tt, res2.x, '.-', label=\"mit Begrenzungen\") #!\n",
    "ax1.plot(tt, res3.x, '.-', label=\"mit Begr. u. Nebenbed.\") #!\n",
    "# #!\n",
    "ax2.plot(tt, XX_num1[1, :]) #!\n",
    "ax3.plot(tt, XX_num1[0, :]) #!\n",
    "ax2.plot(tt, XX_num2[1, :]) #!\n",
    "ax3.plot(tt, XX_num2[0, :]) #!\n",
    "ax2.plot(tt, XX_num3[1, :]) #!\n",
    "ax3.plot(tt, XX_num3[0, :]) #!\n",
    "# #!\n",
    "ax1.set_ylabel(\"$a_k$ in m\\,s${}^{-2}$\") #!\n",
    "ax2.set_ylabel(r\"$\\dot z$ in m\\,s${}^{-1}$\") #!\n",
    "ax3.set_ylabel(\"$z$ in m\") #!\n",
    "ax3.set_yticks([0, 2.5, 5]) #!\n",
    "#  #!\n",
    "ax1.set_xlabel(\"$t$ in s\") #!\n",
    "ax3.set_xlabel(\"$t$ in s\") #!\n",
    "ax1.legend(loc=\"upper right\") #!\n",
    "show_book(fname, saveandshow=True) #!"
   ]
  },
  {
   "cell_type": "code",
   "execution_count": 29,
   "metadata": {},
   "outputs": [
    {
     "name": "stdout",
     "output_type": "stream",
     "text": [
      "####################################################################\n"
     ]
    }
   ],
   "source": [
    "print(\"#\"*68)"
   ]
  },
  {
   "cell_type": "markdown",
   "metadata": {},
   "source": [
    "## Funktionsapproximation"
   ]
  },
  {
   "cell_type": "code",
   "execution_count": 30,
   "metadata": {},
   "outputs": [],
   "source": [
    "# orig_prec = np.get_printoptions() #!\n",
    "np.set_printoptions(precision=8) #!"
   ]
  },
  {
   "cell_type": "code",
   "execution_count": 31,
   "metadata": {},
   "outputs": [
    {
     "name": "stdout",
     "output_type": "stream",
     "text": [
      "[0.072 0.063 0.262 0.21  0.366 0.465]\n"
     ]
    },
    {
     "data": {
      "text/plain": [
       "array([0.008, 0.063, 0.262, 0.21 , 0.366, 0.465])"
      ]
     },
     "execution_count": 31,
     "metadata": {},
     "output_type": "execute_result"
    }
   ],
   "source": [
    "np.random.seed(952) # für Reproduzierbarkeit\n",
    "uu = np.array([1, 5, 10, 12, 16, 20])\n",
    "N = len(uu)\n",
    "\n",
    "R0 = 4.7e1 * 1.03 # mit 3% Abweichung (innerhalb der 10% Toleranz der E12-Reihe)\n",
    "\n",
    "ii0 = uu/R0\n",
    "ii1 = np.round(ii0 + np.random.randn(N)*0.05, 3)\n",
    "\n",
    "print(ii1)\n",
    "\n",
    "# ausreißer einbauen -> ergibt keine schönen Bilder -> doch\n",
    "ii1 = np.array([0.008, 0.063, 0.262, 0.21,  0.366, 0.465])\n"
   ]
  },
  {
   "cell_type": "code",
   "execution_count": 32,
   "metadata": {},
   "outputs": [
    {
     "name": "stdout",
     "output_type": "stream",
     "text": [
      "\\begin{tabular}{rrrrrr}\n",
      "\\hline\n",
      " 1     & 2     &  3     &  4    &  5     &  6     \\\\\n",
      " 1     & 5     & 10     & 12    & 16     & 20     \\\\\n",
      " 0.008 & 0.063 &  0.262 &  0.21 &  0.366 &  0.465 \\\\\n",
      "\\hline\n",
      "\\end{tabular}\n"
     ]
    }
   ],
   "source": [
    "tab_data = np.row_stack((np.arange(N)+1, uu, ii1))\n",
    "\n",
    "try:\n",
    "    from tabulate import tabulate\n",
    "    print(tabulate(tab_data, tablefmt=\"latex\", floatfmt=\"g\"))\n",
    "except ImportError:\n",
    "    # egal -> nur relevant während des Schreibprozesses des Buches\n",
    "    pass"
   ]
  },
  {
   "cell_type": "code",
   "execution_count": 33,
   "metadata": {},
   "outputs": [
    {
     "data": {
      "image/png": "[encoded data removed]",
      "text/plain": [
       "<Figure size 432x288 with 1 Axes>"
      ]
     },
     "metadata": {
      "needs_background": "light"
     },
     "output_type": "display_data"
    }
   ],
   "source": [
    "plt.rcParams.update(orig_plt_rcParams)\n",
    "plt.rcParams[\"font.size\"] = 20 # weil das Bild neben einer anderen Grafik angezeigt wird\n",
    "\n",
    "plt.plot(uu, ii1, \"o\")\n",
    "plt.xlabel(r\"$U$ in V\")\n",
    "plt.ylabel(r\"$I$ in A\")\n",
    "plt.axis([-0.5, 22, -0.05, 0.55])\n",
    "plt.savefig(\"I_von_U_daten_regression.pdf\", bbox_inches=\"tight\")"
   ]
  },
  {
   "cell_type": "markdown",
   "metadata": {},
   "source": [
    "`begin fit1`"
   ]
  },
  {
   "cell_type": "code",
   "execution_count": 34,
   "metadata": {},
   "outputs": [
    {
     "data": {
      "text/plain": [
       "64.40041252032363"
      ]
     },
     "execution_count": 34,
     "metadata": {},
     "output_type": "execute_result"
    }
   ],
   "source": [
    "uu = np.array([1, 5, 10, 12, 16, 20])\n",
    "ii = np.array([0.008, 0.063, 0.262, 0.21,  0.366, 0.465])\n",
    "\n",
    "# Mittelwert bilden\n",
    "R_mean = np.mean(uu/ii)"
   ]
  },
  {
   "cell_type": "markdown",
   "metadata": {},
   "source": [
    "`end fit1`"
   ]
  },
  {
   "cell_type": "code",
   "execution_count": 35,
   "metadata": {},
   "outputs": [],
   "source": [
    "plt.rcParams.update(orig_plt_rcParams)"
   ]
  },
  {
   "cell_type": "markdown",
   "metadata": {},
   "source": [
    "`begin fit2`"
   ]
  },
  {
   "cell_type": "code",
   "execution_count": 36,
   "metadata": {},
   "outputs": [
    {
     "data": {
      "text/plain": [
       "(array([44.91003445]), array([[6.88807632]]))"
      ]
     },
     "execution_count": 36,
     "metadata": {},
     "output_type": "execute_result"
    }
   ],
   "source": [
    "from scipy.optimize import curve_fit\n",
    "\n",
    "def f_ansatz_i(uu, r):\n",
    "    # I = U/R\n",
    "    return uu/r\n",
    "\n",
    "res, pcov = curve_fit(f_ansatz_i, uu, ii1, p0=1)\n",
    "res, pcov #!"
   ]
  },
  {
   "cell_type": "code",
   "execution_count": 38,
   "metadata": {},
   "outputs": [
    {
     "name": "stdout",
     "output_type": "stream",
     "text": [
      "Siehe Abbildung §\\ref{fig_I_von_U_regression2}§\n"
     ]
    },
    {
     "data": {
      "image/png": "[encoded data removed]",
      "text/plain": [
       "<Figure size 432x288 with 1 Axes>"
      ]
     },
     "metadata": {
      "needs_background": "light"
     },
     "output_type": "display_data"
    }
   ],
   "source": [
    "\n",
    "plt.plot(uu, ii, \"o\", label=\"Messung\")\n",
    "plt.plot(uu, f_ansatz_i(uu, res), \"-\", label=\"curve\\_fit\")\n",
    "plt.plot(uu, uu/R_mean, \"--\", label=\"$R$-Mittelwert\")\n",
    "plt.legend(fontsize=16) #!\n",
    "plt.xlabel(r\"$U$ in V\") #!\n",
    "plt.ylabel(r\"$I$ in A\") #!\n",
    "show_book(\"I_von_U_regression2\") #!"
   ]
  },
  {
   "cell_type": "markdown",
   "metadata": {},
   "source": [
    "`end fit2`"
   ]
  },
  {
   "cell_type": "code",
   "execution_count": null,
   "metadata": {},
   "outputs": [],
   "source": []
  },
  {
   "cell_type": "markdown",
   "metadata": {},
   "source": [
    "`begin fit3`"
   ]
  },
  {
   "cell_type": "code",
   "execution_count": 135,
   "metadata": {},
   "outputs": [
    {
     "data": {
      "text/plain": [
       "array([43.89993743])"
      ]
     },
     "execution_count": 135,
     "metadata": {},
     "output_type": "execute_result"
    }
   ],
   "source": [
    "pp = ii*uu\n",
    "\n",
    "def f_ansatz_p(uu, r):\n",
    "    # I = U/R\n",
    "    return uu**2/r\n",
    "\n",
    "res, pcov = curve_fit(f_ansatz_p, uu, pp, p0=1)\n",
    "res #!"
   ]
  },
  {
   "cell_type": "code",
   "execution_count": 136,
   "metadata": {},
   "outputs": [
    {
     "name": "stdout",
     "output_type": "stream",
     "text": [
      "Siehe Abbildung §\\ref{fig_P_von_U_regression3}§\n"
     ]
    },
    {
     "data": {
      "image/png": "[encoded data removed]",
      "text/plain": [
       "<Figure size 432x288 with 1 Axes>"
      ]
     },
     "metadata": {
      "needs_background": "light"
     },
     "output_type": "display_data"
    }
   ],
   "source": [
    "plt.plot(uu, pp, \"*\", label=\"Messung $P$\")\n",
    "plt.plot(uu, f_ansatz_p(uu, res), \"-\", label=\"Schätzung $P$\")\n",
    "plt.legend() #!\n",
    "show_book(\"P_von_U_regression3\") #!"
   ]
  },
  {
   "cell_type": "markdown",
   "metadata": {},
   "source": [
    "`end fit3`"
   ]
  },
  {
   "cell_type": "markdown",
   "metadata": {},
   "source": [
    "`begin fit4`"
   ]
  },
  {
   "cell_type": "code",
   "execution_count": 147,
   "metadata": {},
   "outputs": [],
   "source": [
    "def f_overfit(uu, *coeffs):\n",
    "    # I = U/R\n",
    "    res = 0\n",
    "    for i, ai in enumerate(coeffs):\n",
    "        res += ai*uu**i\n",
    "    return res\n",
    "\n",
    "init_guess = np.ones(6) # Polynom 5. Grades (6 Koeff.)\n",
    "res2, pcov = curve_fit(f_overfit, uu, pp, p0=init_guess)\n",
    "# Muss ggf. zweimal ausgeführt werden #!"
   ]
  },
  {
   "cell_type": "code",
   "execution_count": 156,
   "metadata": {},
   "outputs": [
    {
     "name": "stdout",
     "output_type": "stream",
     "text": [
      "Siehe Abbildung §\\ref{fig_P_von_U_regression4}§\n"
     ]
    },
    {
     "data": {
      "image/png": "[encoded data removed]",
      "text/plain": [
       "<Figure size 432x288 with 1 Axes>"
      ]
     },
     "metadata": {
      "needs_background": "light"
     },
     "output_type": "display_data"
    }
   ],
   "source": [
    "uu2 = np.linspace(0, 22)\n",
    "plt.plot(uu, pp, \"*\", label=\"Messung $P$\")\n",
    "plt.plot(uu2, f_ansatz_p(uu2, *res), \"-\", label=\"Schätzung $P$, $K=2$\")\n",
    "plt.plot(uu2, f_overfit(uu2, *res2), \"-\", label=\"Schätzung $P$, $K=5$\")\n",
    "plt.legend() #!\n",
    "show_book(\"P_von_U_regression4\") #!"
   ]
  },
  {
   "cell_type": "markdown",
   "metadata": {},
   "source": [
    "`end fit4`"
   ]
  },
  {
   "cell_type": "markdown",
   "metadata": {},
   "source": [
    "`begin fit5`"
   ]
  },
  {
   "cell_type": "code",
   "execution_count": 219,
   "metadata": {},
   "outputs": [
    {
     "name": "stdout",
     "output_type": "stream",
     "text": [
      "Siehe Abbildung §\\ref{fig_spline_regression1}§\n"
     ]
    },
    {
     "data": {
      "image/png": "[encoded data removed]",
      "text/plain": [
       "<Figure size 432x288 with 1 Axes>"
      ]
     },
     "metadata": {
      "needs_background": "light"
     },
     "output_type": "display_data"
    }
   ],
   "source": [
    "from scipy.interpolate import UnivariateSpline\n",
    "np.random.seed(0) #!\n",
    "\n",
    "# Neue \"Daten\" erzeugen (Rauschen, Mittelwert: 0)\n",
    "xx = np.linspace(0, 5, 25)\n",
    "yy = np.random.randn(len(xx)) # Rauschen\n",
    "plt.plot(xx, yy, '*', ms=8, label='\"Messwerte\"')\n",
    "\n",
    "# höhere x-Auflösung für Spline-Auswertung\n",
    "xx2 = np.linspace(xx[0], xx[-1], 1000)\n",
    "for s in [0, 15, 30]:\n",
    "    spl_func = UnivariateSpline(xx, yy, s=s)\n",
    "    plt.plot(xx2, spl_func(xx2), label=f\"$s={s}$\")\n",
    "##!\n",
    "plt.legend(loc=\"lower left\") #!\n",
    "plt.axis([-0.5, 5.5, -4.8, 2.5]) #!\n",
    "show_book(\"spline_regression1\") #!"
   ]
  },
  {
   "cell_type": "markdown",
   "metadata": {},
   "source": [
    "`end fit5`"
   ]
  },
  {
   "cell_type": "code",
   "execution_count": 211,
   "metadata": {},
   "outputs": [
    {
     "name": "stdout",
     "output_type": "stream",
     "text": [
      "Extracting snippets in kapitel_optimierung.ipynb\n",
      "Extracting snippets: mpp_intro1, mpp_intro2, mpp_intro3, mpp_intro4, mpp_intro5, mpp_intro6, mpp_fsolve1, mpp_fsolve2, mpp_fsolve3, local_minima1, local_minima2, local_minima3, local_minima4, optimal_control1, optimal_control2, optimal_control3, optimal_control4, optimal_control5, optimale_steuerung_begrenzt1, optimale_steuerung_nb1, optimale_steuerung_nb2, fit1, fit2, fit3, fit4, fit5, regression02\n",
      "Done\n"
     ]
    }
   ],
   "source": [
    "!python3 ../../nbsnippets.py kapitel_optimierung.ipynb"
   ]
  }
 ],
 "metadata": {
  "kernelspec": {
   "display_name": "Python 3",
   "language": "python",
   "name": "python3"
  },
  "language_info": {
   "codemirror_mode": {
    "name": "ipython",
    "version": 3
   },
   "file_extension": ".py",
   "mimetype": "text/x-python",
   "name": "python",
   "nbconvert_exporter": "python",
   "pygments_lexer": "ipython3",
   "version": "3.8.6"
  }
 },
 "nbformat": 4,
 "nbformat_minor": 4
}
