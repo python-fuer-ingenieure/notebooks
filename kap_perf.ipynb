{
 "cells": [
  {
   "cell_type": "code",
   "execution_count": 1,
   "metadata": {},
   "outputs": [],
   "source": [
    "import matplotlib.pyplot as plt"
   ]
  },
  {
   "cell_type": "code",
   "execution_count": 2,
   "metadata": {},
   "outputs": [],
   "source": [
    "def show_book(figname):\n",
    "    print(r\"Siehe Abbildung §\\ref{fig_XXX}§\".replace(\"XXX\", figname))\n",
    "    plt.savefig(f\"{figname}_snip.pdf\")\n",
    "    plt.show()"
   ]
  },
  {
   "cell_type": "markdown",
   "metadata": {},
   "source": [
    "# Wärmeleitung"
   ]
  },
  {
   "cell_type": "markdown",
   "metadata": {},
   "source": [
    "`begin heat_setup`"
   ]
  },
  {
   "cell_type": "code",
   "execution_count": 3,
   "metadata": {},
   "outputs": [],
   "source": [
    "a = 0.1  # K/(m²s)\n",
    "\n",
    "# Abtastzeit der Iteration ist 2 ms\n",
    "dt = 0.002\n",
    "# Gesamtzeit ist 1 s\n",
    "T = 1.0\n",
    "steps = int(T/dt) # Anzahl der Zeitschritte\n",
    "\n",
    "# Gitterdimension 1 x 1 m\n",
    "grid_dim = (1, 1)\n",
    "# 25 Gitterpunkte auf jeder Achse\n",
    "grid_samples = (25, 25)"
   ]
  },
  {
   "cell_type": "markdown",
   "metadata": {},
   "source": [
    "`end`"
   ]
  },
  {
   "cell_type": "code",
   "execution_count": 4,
   "metadata": {},
   "outputs": [
    {
     "name": "stdout",
     "output_type": "stream",
     "text": [
      "Max dt: 0.003999999999999999\n",
      "Sim should converge\n"
     ]
    }
   ],
   "source": [
    "dx, dy = grid_dim[0] / grid_samples[0], grid_dim[1] / grid_samples[1]\n",
    "max_dt = 1/(2*a)*(dx*dy)**2/(dx**2+dy**2)\n",
    "print('Max dt:', max_dt)\n",
    "if dt >= max_dt:\n",
    "    print(\"Sim will freak out\")\n",
    "else:\n",
    "    print(\"Sim should converge\")"
   ]
  },
  {
   "cell_type": "code",
   "execution_count": 5,
   "metadata": {},
   "outputs": [],
   "source": [
    "import matplotlib.pyplot as plt\n",
    "def plot_heat_grid(u, grid_dim):\n",
    "    plt.imshow(u.T, cmap='coolwarm', origin='lower', extent=(0, grid_dim[0], 0, grid_dim[1]))\n",
    "    plt.colorbar(label=\"Temperatur [°C]\")"
   ]
  },
  {
   "cell_type": "markdown",
   "metadata": {},
   "source": [
    "`begin heat_sim_numpy`"
   ]
  },
  {
   "cell_type": "code",
   "execution_count": 6,
   "metadata": {},
   "outputs": [],
   "source": [
    "import numpy as np\n",
    "def sim_heat_equation_numpy(a, grid_dim, grid_samples, dt, steps):\n",
    "    dx, dy = grid_dim[0] / grid_samples[0], grid_dim[1] / grid_samples[1]\n",
    "    # Anfangsbedingungen: alles 0°C\n",
    "    u = np.zeros(grid_samples)\n",
    "    \n",
    "    # Definiere Maske um Temperatur auf Scheibe in Schleife zu setzen\n",
    "    disk_mask = np.zeros_like(u, dtype=bool)\n",
    "    for xi in range(grid_samples[0]):\n",
    "        for yi in range(grid_samples[1]):\n",
    "            # Scheibe mit Radius 0.1 und Mittelpunkt (0.5, 0.5)\n",
    "            if (xi*dx - 0.5)**2 + (yi*dy - 0.5)**2 < 0.1**2:\n",
    "                disk_mask[xi,yi] = True\n",
    "\n",
    "    for i in range(steps):  # Simulationsschleife\n",
    "        # Setze Randwerte\n",
    "        u[0,:] = u[1,:]  # Neumann am linken Rand\n",
    "        u[-1,:] = u[-2,:] # Neumann am rechten Rand\n",
    "        u[:,0] = 0 # Dirichlet (0°C) am unteren Rand\n",
    "        u[:,-1] = 50 # Dirichlet (50°C) am oberen Rand\n",
    "        u[disk_mask] = 50  # Erhitzte Scheibe (50°C)\n",
    "        # Diskretisierte Wärmeleitungsgleichung\n",
    "        u[1:-1,1:-1] += a*dt*((u[2:,1:-1] + u[:-2,1:-1] - 2*u[1:-1,1:-1])/(dx**2) +\n",
    "                              (u[1:-1,2:] + u[1:-1,:-2] - 2*u[1:-1,1:-1])/(dy**2))\n",
    "    \n",
    "    return u"
   ]
  },
  {
   "cell_type": "markdown",
   "metadata": {},
   "source": [
    "`end`"
   ]
  },
  {
   "cell_type": "markdown",
   "metadata": {},
   "source": [
    "`begin heat_sim_python_loops`"
   ]
  },
  {
   "cell_type": "code",
   "execution_count": 7,
   "metadata": {},
   "outputs": [],
   "source": [
    "import numpy as np\n",
    "def sim_heat_equation_python_loops(a, grid_dim, grid_samples, dt, steps):\n",
    "    dx, dy = grid_dim[0] / grid_samples[0], grid_dim[1] / grid_samples[1]\n",
    "    # Anfangsbedingungen: alles 0°C\n",
    "    u = np.zeros(grid_samples)\n",
    "\n",
    "    for i in range(steps):  # Simulationsschleife\n",
    "        for xi in range(grid_samples[0]):\n",
    "            for yi in range(grid_samples[1]):\n",
    "                if xi == 0: # Neumann am linken Rand\n",
    "                    u[0,yi] = u[1,yi]\n",
    "                elif xi == grid_samples[0] - 1: # Neumann am rechten Rand\n",
    "                    u[-1,yi] = u[-2,yi]\n",
    "                elif yi == 0: # Dirichlet am unteren Rand\n",
    "                    u[xi,0] = 0\n",
    "                elif yi == grid_samples[1] - 1: # Dirichlet am oberen Rand\n",
    "                    u[xi,-1] = 50\n",
    "                elif (xi*dx - 0.5)**2 + (yi*dy - 0.5)**2 < 0.1**2:\n",
    "                    u[xi,yi] = 50  # Erhitzte Scheibe (50°C)\n",
    "                else:\n",
    "                    # Diskretisierte Wärmeleitungsgleichung\n",
    "                    u[xi,yi] += a*dt*((u[xi+1,yi] + u[xi-1,yi] - 2*u[xi,yi])/(dx**2) +\n",
    "                                      (u[xi,yi+1] + u[xi,yi-1] - 2*u[xi,yi])/(dy**2))\n",
    "    \n",
    "    return u"
   ]
  },
  {
   "cell_type": "markdown",
   "metadata": {},
   "source": [
    "`end`"
   ]
  },
  {
   "cell_type": "markdown",
   "metadata": {},
   "source": [
    "`begin heat_sim_python_loops_numba`"
   ]
  },
  {
   "cell_type": "code",
   "execution_count": 8,
   "metadata": {},
   "outputs": [],
   "source": [
    "from numba import jit\n",
    "#!@jit\n",
    "#!def sim_heat_equation_numba(a, grid_dim, grid_samples, dt, steps):\n",
    "#!    # Code aus sim_heat_equation_python_loops 1:1 kopieren\n",
    "#!    ..."
   ]
  },
  {
   "cell_type": "markdown",
   "metadata": {},
   "source": [
    "`end`"
   ]
  },
  {
   "cell_type": "code",
   "execution_count": 9,
   "metadata": {},
   "outputs": [],
   "source": [
    "@jit\n",
    "def sim_heat_equation_numba(a, grid_dim, grid_samples, dt, steps):\n",
    "    dx, dy = grid_dim[0] / grid_samples[0], grid_dim[1] / grid_samples[1]\n",
    "    u = np.zeros(grid_samples)\n",
    "\n",
    "    for i in range(steps):  # Simulationsschleife\n",
    "        for xi in range(grid_samples[0]):\n",
    "            for yi in range(grid_samples[1]):\n",
    "                if xi == 0: # Neumann am linken Rand\n",
    "                    u[0,yi] = u[1,yi]\n",
    "                elif xi == grid_samples[0] - 1: # Neumann am rechten Rand\n",
    "                    u[-1,yi] = u[-2,yi]\n",
    "                elif yi == 0: # Dirichlet am unteren Rand\n",
    "                    u[xi,0] = 0\n",
    "                elif yi == grid_samples[1] - 1: # Dirichlet am oberen Rand\n",
    "                    u[xi,-1] = 50\n",
    "                elif (xi*dx - 0.5)**2 + (yi*dy - 0.5)**2 < 0.1**2:\n",
    "                    u[xi,yi] = 50\n",
    "                else:\n",
    "                    u[xi,yi] += a*dt*((u[xi+1,yi] + u[xi-1,yi] - 2*u[xi,yi])/(dx**2) +\n",
    "                                      (u[xi,yi+1] + u[xi,yi-1] - 2*u[xi,yi])/(dy**2))\n",
    "    \n",
    "    return u"
   ]
  },
  {
   "cell_type": "markdown",
   "metadata": {},
   "source": [
    "`begin timeit_python_loops`"
   ]
  },
  {
   "cell_type": "code",
   "execution_count": 10,
   "metadata": {},
   "outputs": [
    {
     "name": "stdout",
     "output_type": "stream",
     "text": [
      "1.87 s ± 124 ms per loop (mean ± std. dev. of 7 runs, 1 loop each)\n"
     ]
    }
   ],
   "source": [
    "#!%timeit sim_heat_equation_python_loops(a, grid_dim, grid_samples, dt, steps)\n",
    "print(\"1.87 s ± 124 ms per loop (mean ± std. dev. of 7 runs, 1 loop each)\")#!"
   ]
  },
  {
   "cell_type": "markdown",
   "metadata": {},
   "source": [
    "`end`"
   ]
  },
  {
   "cell_type": "markdown",
   "metadata": {},
   "source": [
    "`begin timeit_numpy`"
   ]
  },
  {
   "cell_type": "code",
   "execution_count": 11,
   "metadata": {},
   "outputs": [
    {
     "name": "stdout",
     "output_type": "stream",
     "text": [
      "31.8 ms ± 11.2 ms per loop (mean ± std. dev. of 7 runs, 10 loops each)\n"
     ]
    }
   ],
   "source": [
    "#!%timeit sim_heat_equation_numpy(a, grid_dim, grid_samples, dt, steps)\n",
    "print(\"31.8 ms ± 11.2 ms per loop (mean ± std. dev. of 7 runs, 10 loops each)\")#!"
   ]
  },
  {
   "cell_type": "markdown",
   "metadata": {},
   "source": [
    "`end`"
   ]
  },
  {
   "cell_type": "markdown",
   "metadata": {},
   "source": [
    "`begin timeit_numba`"
   ]
  },
  {
   "cell_type": "code",
   "execution_count": 12,
   "metadata": {},
   "outputs": [
    {
     "name": "stdout",
     "output_type": "stream",
     "text": [
      "4.05 ms ± 86.6 µs per loop (mean ± std. dev. of 7 runs, 100 loops each)\n"
     ]
    }
   ],
   "source": [
    "# Erster Aufruf ist Aufwärmung und kompiliert die Funktionenn\n",
    "#!sim_heat_equation_numba(a, grid_dim, grid_samples, dt, steps)\n",
    "# Jetzt (nach Kompilierung) ist Zeitmessung sinnvoll\n",
    "#!%timeit sim_heat_equation_numba(a, grid_dim, grid_samples, dt, steps)\n",
    "print(\"4.05 ms ± 86.6 µs per loop (mean ± std. dev. of 7 runs, 100 loops each)\")#!"
   ]
  },
  {
   "cell_type": "markdown",
   "metadata": {},
   "source": [
    "`end`"
   ]
  },
  {
   "cell_type": "code",
   "execution_count": 34,
   "metadata": {},
   "outputs": [
    {
     "name": "stdout",
     "output_type": "stream",
     "text": [
      "Siehe Abbildung §\\ref{fig_heat_sim}§\n"
     ]
    },
    {
     "data": {
      "image/png": "[encoded data removed]",
      "text/plain": [
       "<Figure size 360x216 with 2 Axes>"
      ]
     },
     "metadata": {
      "needs_background": "light"
     },
     "output_type": "display_data"
    }
   ],
   "source": [
    "u = sim_heat_equation_numpy(a, grid_dim, grid_samples, dt, steps)\n",
    "plt.figure(figsize=(5, 3))\n",
    "plot_heat_grid(u, grid_dim)\n",
    "plt.xlabel(\"$x$\")\n",
    "plt.ylabel(\"$y$\")\n",
    "plt.tight_layout()\n",
    "show_book('heat_sim')"
   ]
  },
  {
   "cell_type": "markdown",
   "metadata": {},
   "source": [
    "# Visualisierung Laplace-Operator"
   ]
  },
  {
   "cell_type": "code",
   "execution_count": 14,
   "metadata": {},
   "outputs": [
    {
     "name": "stdout",
     "output_type": "stream",
     "text": [
      "Siehe Abbildung §\\ref{fig_laplace_sketch}§\n"
     ]
    },
    {
     "data": {
      "image/png": "[encoded data removed]",
      "text/plain": [
       "<Figure size 360x216 with 1 Axes>"
      ]
     },
     "metadata": {
      "needs_background": "light"
     },
     "output_type": "display_data"
    }
   ],
   "source": [
    "import numpy as np\n",
    "from scipy.interpolate import interp1d\n",
    "xx = np.linspace(0, 10)\n",
    "straight_fun = interp1d([0, 10], [10, 0])\n",
    "yy_straight = straight_fun(xx)\n",
    "bendy_points = np.array([[0, 10], [2.5, 9], [5, 5], [7.5, 1], [10, 0]])\n",
    "bendy_fun = interp1d(bendy_points[:,0], bendy_points[:,1], 'cubic')\n",
    "yy_bendy = bendy_fun(xx)\n",
    "\n",
    "plt.figure(figsize=(5,3))\n",
    "plt.plot(xx, yy_straight, '--', label='Temperatur nach Ausgleich')\n",
    "plt.plot(xx, yy_bendy, label='Temperatur zu Beginn')\n",
    "plt.arrow(2.5, 8.8, 0, -0.8, head_width=0.3, fc=\"k\")\n",
    "plt.arrow(7.5, 1.2, 0, 0.8, head_width=0.3, fc=\"k\")\n",
    "plt.legend()\n",
    "plt.ylabel('$u$')\n",
    "plt.xlabel('$x$')\n",
    "#plt.tick_params(axis='x', which='both', bottom=False, top=False, labelleft=False, labelbottom=False)\n",
    "#plt.tick_params(axis='y', which='both', bottom=False, top=False, left=False, labelleft=False, labelbottom=False)\n",
    "show_book('laplace_sketch')\n",
    "#plt.plot(bendy_points[:,0], bendy_points[:,1], 'o')"
   ]
  },
  {
   "cell_type": "markdown",
   "metadata": {},
   "source": [
    "# Performance messen"
   ]
  },
  {
   "cell_type": "markdown",
   "metadata": {},
   "source": [
    "`begin perf_counter`"
   ]
  },
  {
   "cell_type": "code",
   "execution_count": 15,
   "metadata": {},
   "outputs": [
    {
     "data": {
      "text/plain": [
       "31.8312628"
      ]
     },
     "execution_count": 15,
     "metadata": {},
     "output_type": "execute_result"
    }
   ],
   "source": [
    "import time\n",
    "#!time.perf_counter()  # Zeit in s seit undefiniertem Punkt\n",
    "print(\"31.8312628\")#!"
   ]
  },
  {
   "cell_type": "markdown",
   "metadata": {},
   "source": [
    "`end`"
   ]
  },
  {
   "cell_type": "markdown",
   "metadata": {},
   "source": [
    "`begin perf_counter_sim`"
   ]
  },
  {
   "cell_type": "code",
   "execution_count": 16,
   "metadata": {},
   "outputs": [
    {
     "name": "stdout",
     "output_type": "stream",
     "text": [
      "Simulation braucht 4.069655700000002 s (Wanduhr-Zeit)\n"
     ]
    }
   ],
   "source": [
    "start_time = time.perf_counter()  # Startzeit merken\n",
    "sim_heat_equation_python_loops(a, grid_dim, grid_samples, dt, steps)\n",
    "time.sleep(2)  # \"Inaktive\" Zeit wird mit gemessen\n",
    "sim_time = time.perf_counter() - start_time  # Aktuelle Zeit - Startzeit\n",
    "#!print(f\"Simulation braucht {sim_time} s (Wanduhr-Zeit)\")\n",
    "print(\"Simulation braucht 4.069655700000002 s (Wanduhr-Zeit)\")#!"
   ]
  },
  {
   "cell_type": "markdown",
   "metadata": {},
   "source": [
    "`end`"
   ]
  },
  {
   "cell_type": "markdown",
   "metadata": {},
   "source": [
    "`begin timedelta`"
   ]
  },
  {
   "cell_type": "code",
   "execution_count": 17,
   "metadata": {},
   "outputs": [
    {
     "data": {
      "text/plain": [
       "'2:19:42.250000'"
      ]
     },
     "execution_count": 17,
     "metadata": {},
     "output_type": "execute_result"
    }
   ],
   "source": [
    "import datetime\n",
    "long_time_seconds = 2*60*60 + 19*60 + 42 + 0.25 # 2h 19m 42s 250ms\n",
    "# Menschenlesbare Ausgabe in einzelnen Einheiten\n",
    "str(datetime.timedelta(seconds=long_time_seconds)) "
   ]
  },
  {
   "cell_type": "markdown",
   "metadata": {},
   "source": [
    "`end`"
   ]
  },
  {
   "cell_type": "markdown",
   "metadata": {},
   "source": [
    "`begin process_time_sim`"
   ]
  },
  {
   "cell_type": "code",
   "execution_count": 18,
   "metadata": {},
   "outputs": [
    {
     "name": "stdout",
     "output_type": "stream",
     "text": [
      "Simulation braucht 1.84375 s (Prozessorzeit)\n"
     ]
    }
   ],
   "source": [
    "start_time = time.process_time()\n",
    "sim_heat_equation_python_loops(a, grid_dim, grid_samples, dt, steps)\n",
    "time.sleep(2)  # Inaktive Zeit wird nicht gemessen\n",
    "sim_time = time.process_time() - start_time\n",
    "#!print(f\"Simulation braucht {sim_time} s (Prozessorzeit)\")\n",
    "print(\"Simulation braucht 1.84375 s (Prozessorzeit)\")#!"
   ]
  },
  {
   "cell_type": "markdown",
   "metadata": {},
   "source": [
    "`end`"
   ]
  },
  {
   "cell_type": "markdown",
   "metadata": {},
   "source": [
    "## timeit"
   ]
  },
  {
   "cell_type": "markdown",
   "metadata": {},
   "source": [
    "`begin timeit_sim`"
   ]
  },
  {
   "cell_type": "code",
   "execution_count": 19,
   "metadata": {},
   "outputs": [
    {
     "name": "stdout",
     "output_type": "stream",
     "text": [
      "Simulation braucht 2.0994281249999993 s (Wanduhr-Zeit)\n"
     ]
    }
   ],
   "source": [
    "import timeit\n",
    "nr_runs = 4  # Wie oft soll die Funktion ausgeführt werden?\n",
    "# timeit.timeit nimmt eine ausführbare Funktion ohne Argumente\n",
    "#!time_per_run = timeit.timeit(lambda: sim_heat_equation_python_loops(a, grid_dim, grid_samples, dt, steps), number=nr_runs) / nr_runs\n",
    "#!print(f\"Simulation braucht {time_per_run} s (Wanduhr-Zeit)\")\n",
    "print(\"Simulation braucht 2.0994281249999993 s (Wanduhr-Zeit)\")#!"
   ]
  },
  {
   "cell_type": "markdown",
   "metadata": {},
   "source": [
    "`end`"
   ]
  },
  {
   "cell_type": "markdown",
   "metadata": {},
   "source": [
    "`begin timeit_magic`"
   ]
  },
  {
   "cell_type": "code",
   "execution_count": 20,
   "metadata": {},
   "outputs": [
    {
     "name": "stdout",
     "output_type": "stream",
     "text": [
      "1.97 s ± 78.2 ms per loop (mean ± std. dev. of 7 runs, 1 loop each)\n"
     ]
    }
   ],
   "source": [
    "#!%timeit sim_heat_equation_python_loops(a, grid_dim, grid_samples, dt, steps)\n",
    "print(\"1.97 s ± 78.2 ms per loop (mean ± std. dev. of 7 runs, 1 loop each)\")#!"
   ]
  },
  {
   "cell_type": "markdown",
   "metadata": {},
   "source": [
    "`end`"
   ]
  },
  {
   "cell_type": "code",
   "execution_count": 21,
   "metadata": {},
   "outputs": [],
   "source": [
    "import numpy as np"
   ]
  },
  {
   "cell_type": "markdown",
   "metadata": {},
   "source": [
    "`begin timeit_repeat`"
   ]
  },
  {
   "cell_type": "code",
   "execution_count": 22,
   "metadata": {},
   "outputs": [
    {
     "data": {
      "text/plain": [
       "array([7.5460774, 7.0870385, 7.7462764])"
      ]
     },
     "execution_count": 22,
     "metadata": {},
     "output_type": "execute_result"
    }
   ],
   "source": [
    "run_times = np.array(timeit.repeat(lambda: sim_heat_equation_python_loops(a, grid_dim, grid_samples, dt, steps), number=nr_runs, repeat=3))\n",
    "run_times"
   ]
  },
  {
   "cell_type": "code",
   "execution_count": 23,
   "metadata": {},
   "outputs": [
    {
     "name": "stdout",
     "output_type": "stream",
     "text": [
      "Zeit pro Aufruf: 1.8649493583333328 s ± 68.99028515097449 ms\n"
     ]
    }
   ],
   "source": [
    "print(f\"Zeit pro Aufruf: {np.mean(run_times/nr_runs)} s ± {np.std(run_times/nr_runs)*1000} ms\")"
   ]
  },
  {
   "cell_type": "markdown",
   "metadata": {},
   "source": [
    "`end`"
   ]
  },
  {
   "cell_type": "markdown",
   "metadata": {},
   "source": [
    "# C-Code"
   ]
  },
  {
   "cell_type": "code",
   "execution_count": 24,
   "metadata": {},
   "outputs": [],
   "source": [
    "#!C:\\dev\\mingw-w64\\i686-8.1.0-posix-dwarf-rt_v6-rev0\\mingw32\\bin\\gcc.exe -c -fpic -lm heat_sim.c\n",
    "#!C:\\dev\\mingw-w64\\i686-8.1.0-posix-dwarf-rt_v6-rev0\\mingw32\\bin\\gcc.exe -shared -o libheatsim.so heat_sim.o"
   ]
  },
  {
   "cell_type": "markdown",
   "metadata": {},
   "source": [
    "`begin ct_loadlib`"
   ]
  },
  {
   "cell_type": "code",
   "execution_count": 25,
   "metadata": {},
   "outputs": [],
   "source": [
    "import ctypes\n",
    "lib = ctypes.cdll.LoadLibrary(r\"C:\\dev\\pfifd\\code\\kap_perf\\libheatsim.so\")#!\n",
    "#!lib = ctypes.cdll.LoadLibrary(\"libheatsim.so\")"
   ]
  },
  {
   "cell_type": "markdown",
   "metadata": {},
   "source": [
    "`end`"
   ]
  },
  {
   "cell_type": "markdown",
   "metadata": {},
   "source": [
    "`begin ct_def_fun`"
   ]
  },
  {
   "cell_type": "code",
   "execution_count": 26,
   "metadata": {},
   "outputs": [],
   "source": [
    "import numpy as np\n",
    "# Hilfstyp für NumPy-Arrays und ctypes\n",
    "from numpy.ctypeslib import ndpointer\n",
    "c_heat_sim = lib.heatSim\n",
    "c_heat_sim.argtypes = [ndpointer(ctypes.c_float, ndim=2), ctypes.c_float,\n",
    "                       ctypes.c_uint, ctypes.c_uint,\n",
    "                       ctypes.c_float, ctypes.c_float,\n",
    "                       ctypes.c_float, ctypes.c_uint]\n",
    "c_heat_sim.restype = ctypes.c_uint"
   ]
  },
  {
   "cell_type": "markdown",
   "metadata": {},
   "source": [
    "`end`"
   ]
  },
  {
   "cell_type": "markdown",
   "metadata": {},
   "source": [
    "`begin ct_wrapper`"
   ]
  },
  {
   "cell_type": "code",
   "execution_count": 27,
   "metadata": {},
   "outputs": [],
   "source": [
    "def sim_heat_equation_c(a, grid_dim, grid_samples, dt, steps):\n",
    "    dx, dy = grid_dim[0] / grid_samples[0], grid_dim[1] / grid_samples[1]\n",
    "    u = np.zeros(grid_samples, dtype=np.float32)  # Datentyp explizit auf C float setzen\n",
    "    # c_heat_sim als Python-Funktion aufrufen. Rückgabewert ist die Anzahl\n",
    "    # an Schleifendurchläufen\n",
    "    loop_counter = c_heat_sim(u, a, grid_samples[0], grid_samples[1], dx, dy, dt, steps)\n",
    "    return u"
   ]
  },
  {
   "cell_type": "markdown",
   "metadata": {},
   "source": [
    "`end`"
   ]
  },
  {
   "cell_type": "markdown",
   "metadata": {},
   "source": [
    "`begin timeit_c`"
   ]
  },
  {
   "cell_type": "code",
   "execution_count": 28,
   "metadata": {},
   "outputs": [
    {
     "name": "stdout",
     "output_type": "stream",
     "text": [
      "17.2 ms ± 377 µs per loop (mean ± std. dev. of 7 runs, 10 loops each)\n"
     ]
    }
   ],
   "source": [
    "#!%timeit sim_heat_equation_c(a, grid_dim, grid_samples, dt, steps)\n",
    "print(\"17.2 ms ± 377 µs per loop (mean ± std. dev. of 7 runs, 10 loops each)\") #!"
   ]
  },
  {
   "cell_type": "markdown",
   "metadata": {},
   "source": [
    "`end`"
   ]
  },
  {
   "cell_type": "code",
   "execution_count": 29,
   "metadata": {},
   "outputs": [
    {
     "data": {
      "text/plain": [
       "1"
      ]
     },
     "execution_count": 29,
     "metadata": {},
     "output_type": "execute_result"
    }
   ],
   "source": [
    "libHandle = lib._handle\n",
    "del lib\n",
    "ctypes.windll.kernel32.FreeLibrary(libHandle)"
   ]
  },
  {
   "cell_type": "markdown",
   "metadata": {},
   "source": [
    "# Profiling"
   ]
  },
  {
   "cell_type": "markdown",
   "metadata": {},
   "source": [
    "`begin profiling_beispiel --input_prefix=\"\"`"
   ]
  },
  {
   "cell_type": "code",
   "execution_count": 30,
   "metadata": {},
   "outputs": [],
   "source": [
    "import time\n",
    "def schnarchnase():\n",
    "    time.sleep(0.5)\n",
    "\n",
    "def ruckizucki():\n",
    "    time.sleep(0.001)\n",
    "\n",
    "def profiling_beispiel(n):\n",
    "    schnarchnase()\n",
    "    for i in range(n):\n",
    "        ruckizucki()"
   ]
  },
  {
   "cell_type": "markdown",
   "metadata": {},
   "source": [
    "`end`"
   ]
  },
  {
   "cell_type": "markdown",
   "metadata": {},
   "source": [
    "`begin profile_fast`"
   ]
  },
  {
   "cell_type": "code",
   "execution_count": 31,
   "metadata": {},
   "outputs": [],
   "source": [
    "import cProfile"
   ]
  },
  {
   "cell_type": "code",
   "execution_count": 32,
   "metadata": {},
   "outputs": [
    {
     "name": "stdout",
     "output_type": "stream",
     "text": [
      "         26 function calls in 0.665 seconds\n",
      "\n",
      "   Ordered by: standard name\n",
      "\n",
      "   ncalls  tottime  percall  cumtime  percall filename:lineno(function)\n",
      "        1    0.000    0.000    0.508    0.508 <ipython-input-30-97c425bea2eb>:2(schnarchnase)\n",
      "       10    0.000    0.000    0.156    0.016 <ipython-input-30-97c425bea2eb>:5(ruckizucki)\n",
      "        1    0.001    0.001    0.665    0.665 <ipython-input-30-97c425bea2eb>:8(profiling_beispiel)\n",
      "        1    0.000    0.000    0.665    0.665 <string>:1(<module>)\n",
      "        1    0.000    0.000    0.665    0.665 {built-in method builtins.exec}\n",
      "       11    0.664    0.060    0.664    0.060 {built-in method time.sleep}\n",
      "        1    0.000    0.000    0.000    0.000 {method 'disable' of '_lsprof.Profiler' objects}\n",
      "\n",
      "\n"
     ]
    }
   ],
   "source": [
    "cProfile.run(\"profiling_beispiel(10)\")"
   ]
  },
  {
   "cell_type": "markdown",
   "metadata": {},
   "source": [
    "`end`"
   ]
  },
  {
   "cell_type": "markdown",
   "metadata": {},
   "source": [
    "`begin profile_slow`"
   ]
  },
  {
   "cell_type": "code",
   "execution_count": 33,
   "metadata": {},
   "outputs": [
    {
     "name": "stdout",
     "output_type": "stream",
     "text": [
      "         1006 function calls in 8.282 seconds\n",
      "\n",
      "   Ordered by: standard name\n",
      "\n",
      "   ncalls  tottime  percall  cumtime  percall filename:lineno(function)\n",
      "        1    0.000    0.000    0.508    0.508 <ipython-input-30-97c425bea2eb>:2(schnarchnase)\n",
      "      500    0.008    0.000    7.763    0.016 <ipython-input-30-97c425bea2eb>:5(ruckizucki)\n",
      "        1    0.010    0.010    8.281    8.281 <ipython-input-30-97c425bea2eb>:8(profiling_beispiel)\n",
      "        1    0.000    0.000    8.281    8.281 <string>:1(<module>)\n",
      "        1    0.000    0.000    8.282    8.282 {built-in method builtins.exec}\n",
      "      501    8.263    0.016    8.263    0.016 {built-in method time.sleep}\n",
      "        1    0.000    0.000    0.000    0.000 {method 'disable' of '_lsprof.Profiler' objects}\n",
      "\n",
      "\n"
     ]
    }
   ],
   "source": [
    "cProfile.run(\"profiling_beispiel(500)\")"
   ]
  },
  {
   "cell_type": "markdown",
   "metadata": {},
   "source": [
    "`end`"
   ]
  },
  {
   "cell_type": "code",
   "execution_count": null,
   "metadata": {},
   "outputs": [],
   "source": []
  }
 ],
 "metadata": {
  "kernelspec": {
   "display_name": "Python 3",
   "language": "python",
   "name": "python3"
  },
  "language_info": {
   "codemirror_mode": {
    "name": "ipython",
    "version": 3
   },
   "file_extension": ".py",
   "mimetype": "text/x-python",
   "name": "python",
   "nbconvert_exporter": "python",
   "pygments_lexer": "ipython3",
   "version": "3.8.5"
  }
 },
 "nbformat": 4,
 "nbformat_minor": 4
}
